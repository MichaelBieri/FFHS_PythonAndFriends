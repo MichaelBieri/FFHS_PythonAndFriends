{
 "cells": [
  {
   "cell_type": "markdown",
   "id": "84d66649-d13f-4443-b5db-eab07f5facc9",
   "metadata": {
    "tags": []
   },
   "source": [
    "# Funktionen"
   ]
  },
  {
   "cell_type": "markdown",
   "id": "4d831373-50e6-4732-a503-d179fec6fdb6",
   "metadata": {},
   "source": [
    "## Syntax einer Funktionsdefinition"
   ]
  },
  {
   "cell_type": "code",
   "execution_count": null,
   "id": "8daa1da5-dfd8-4e8a-aad1-b62f14145b8e",
   "metadata": {
    "tags": []
   },
   "outputs": [],
   "source": [
    "def test(name) :\n",
    "    \"\"\"Doc-String\n",
    "    Funktion zum 'Hallo' sagen.\"\"\"\n",
    "    # Mein Kommentar\n",
    "    print(\"Hallo \" + name)"
   ]
  },
  {
   "cell_type": "code",
   "execution_count": null,
   "id": "0dd4bad7-b041-4238-aa4d-1cac1984702b",
   "metadata": {
    "tags": []
   },
   "outputs": [],
   "source": [
    "# Mit der Help-Funktion kann eine Kurzbeschreibung von Funktionen abgefragt werden\n",
    "help(test)"
   ]
  },
  {
   "cell_type": "code",
   "execution_count": null,
   "id": "579b9a47-9077-471b-b706-f6f3f1e1bcfd",
   "metadata": {
    "tags": []
   },
   "outputs": [],
   "source": [
    "test(\"Anna\")"
   ]
  },
  {
   "cell_type": "code",
   "execution_count": null,
   "id": "4dc9bbf2-cf81-4397-a4ea-7fd4042bb963",
   "metadata": {
    "tags": []
   },
   "outputs": [],
   "source": [
    "# Funktion mit Rückgabewert\n",
    "def quadrat(x) :\n",
    "    \"\"\" \n",
    "    Quadrat berechnen und zurückgeben \n",
    "    \"\"\"\n",
    "    return x * x"
   ]
  },
  {
   "cell_type": "code",
   "execution_count": null,
   "id": "69aaefff-4b6f-4058-865f-c4c114a6429a",
   "metadata": {
    "tags": []
   },
   "outputs": [],
   "source": [
    "# Funktion ohne Rückgabewert\n",
    "def print_quadrat(x) :\n",
    "    \"\"\" Quadrat berechnen und ausdrucken \"\"\"\n",
    "    print(x * x)\n",
    "    print(\"Schluss\")"
   ]
  },
  {
   "cell_type": "code",
   "execution_count": null,
   "id": "163037de-c02a-4e2e-91e8-ec8a1948bb8b",
   "metadata": {
    "tags": []
   },
   "outputs": [],
   "source": [
    "quadrat(3)"
   ]
  },
  {
   "cell_type": "code",
   "execution_count": null,
   "id": "6c440b49-8971-45a7-a056-95b7ebbcf339",
   "metadata": {
    "tags": []
   },
   "outputs": [],
   "source": [
    "1 + quadrat(3)"
   ]
  },
  {
   "cell_type": "code",
   "execution_count": null,
   "id": "28cbb062-a261-456e-98b0-e5e19c911637",
   "metadata": {
    "tags": []
   },
   "outputs": [],
   "source": [
    "x = quadrat(3)"
   ]
  },
  {
   "cell_type": "code",
   "execution_count": null,
   "id": "fb64b2a0-539e-401a-a851-c294fb1c95a5",
   "metadata": {
    "tags": []
   },
   "outputs": [],
   "source": [
    "x"
   ]
  },
  {
   "cell_type": "code",
   "execution_count": null,
   "id": "2fc980de-9259-4ae6-90ad-7bc3a6463087",
   "metadata": {
    "tags": []
   },
   "outputs": [],
   "source": [
    "print_quadrat(7)"
   ]
  },
  {
   "cell_type": "code",
   "execution_count": null,
   "id": "74904278-132c-427a-b8ef-3a38d96465ce",
   "metadata": {
    "tags": []
   },
   "outputs": [],
   "source": [
    "y = print_quadrat(7)"
   ]
  },
  {
   "cell_type": "code",
   "execution_count": null,
   "id": "e68bc670-d7c3-412e-b80e-0a98a4524fdf",
   "metadata": {
    "tags": []
   },
   "outputs": [],
   "source": [
    "print(y)"
   ]
  },
  {
   "cell_type": "code",
   "execution_count": null,
   "id": "979f7e4a-32cf-4141-81e8-a1e766f15c4e",
   "metadata": {
    "tags": []
   },
   "outputs": [],
   "source": [
    "type(y)"
   ]
  },
  {
   "cell_type": "code",
   "execution_count": null,
   "id": "d8496fdd-b7a5-46ea-806e-78a5a3e54559",
   "metadata": {
    "tags": []
   },
   "outputs": [],
   "source": [
    "1 + print_quadrat(7)"
   ]
  },
  {
   "cell_type": "code",
   "execution_count": null,
   "id": "13b53975-850b-4b76-adbf-c360ce7cea7b",
   "metadata": {
    "tags": []
   },
   "outputs": [],
   "source": [
    "def drei_args(x1, x2, x3) :\n",
    "    return x1 * x2 + x3"
   ]
  },
  {
   "cell_type": "code",
   "execution_count": null,
   "id": "19b4a64a-f8c2-4163-9fb5-e1c285eb7899",
   "metadata": {
    "tags": []
   },
   "outputs": [],
   "source": [
    "def blah():\n",
    "    return 42"
   ]
  },
  {
   "cell_type": "code",
   "execution_count": null,
   "id": "9fee3eba-593a-45f4-96b1-1e6775a3f6d8",
   "metadata": {
    "tags": []
   },
   "outputs": [],
   "source": [
    "drei_args(2,3,40)"
   ]
  },
  {
   "cell_type": "markdown",
   "id": "01847307-2559-47f4-bc9b-bd44815d330d",
   "metadata": {},
   "source": [
    "### Namensräume von Funktionen\n",
    "In Python gibt es verschiedene Namensäume.\n",
    "\n",
    "+ Der __globale__ Namensraum ist der äußerste Namensraum, in dem alle Variablen sind, die nicht innerhalb einer Funktion (oder einer Klasse) definiert sind.\n",
    "\n",
    "+ Jede Funktion hat ihren eigenen __lokalen__ Namensraum.\n",
    "\n",
    "+ Variablen, die innerhalb einer Funktionsdefinition nur gelesen werden, sind global.\n",
    "\n",
    "+ Funktionsparameter und Variable, denen innerhalb einer Funktion ein Wert zugeordnet wird, gehören zum lokalen Namensraum der Funktion.  \n",
    "Nach Ausführung der Funktion sind sie nicht mehr verfügbar.\n",
    "\n",
    "+ Eine Variable in einer Funktion kann als global deklariert werden."
   ]
  },
  {
   "cell_type": "code",
   "execution_count": null,
   "id": "3bd4f566-54e5-4d35-b255-34f3f4389b4b",
   "metadata": {
    "tags": []
   },
   "outputs": [],
   "source": [
    "x = 20\n",
    "y = 30\n",
    "z = 40\n",
    "def test(x):\n",
    "    global z\n",
    "    print(\"x, innen\", x)\n",
    "    print(\"y, innen\", y)\n",
    "    print(\"z, innen\", z)\n",
    "    x += 1\n",
    "    u = 2 * x\n",
    "test(4)\n",
    "print(\"x, außen\", x)\n",
    "print(\"y, außen\", y)\n",
    "print(\"z, außen\", z)\n",
    "print(\"u, außen\", u)"
   ]
  },
  {
   "cell_type": "code",
   "execution_count": null,
   "id": "e5d40fc3-6208-46c3-a714-1971a544c011",
   "metadata": {
    "tags": []
   },
   "outputs": [],
   "source": [
    "x1 = 13"
   ]
  },
  {
   "cell_type": "code",
   "execution_count": null,
   "id": "1631e035-007b-48cb-900f-a07efe9fd7cd",
   "metadata": {
    "tags": []
   },
   "outputs": [],
   "source": [
    "drei_args(2,3,40)"
   ]
  },
  {
   "cell_type": "code",
   "execution_count": null,
   "id": "96954326-6e8d-4821-a9b4-7896d181d9d2",
   "metadata": {
    "tags": []
   },
   "outputs": [],
   "source": [
    "x1"
   ]
  },
  {
   "cell_type": "markdown",
   "id": "6054e2d5-0314-45b5-b949-b4bb276bfd86",
   "metadata": {},
   "source": [
    "Eine Variable in einer Funktion"
   ]
  },
  {
   "cell_type": "markdown",
   "id": "a7c4e0b3-d931-4cde-a5ad-c31d831994ec",
   "metadata": {},
   "source": [
    "# Aufruf anderer Funktionen\n",
    "Funktionen können andere Funktionen aufrufen"
   ]
  },
  {
   "cell_type": "code",
   "execution_count": null,
   "id": "5a80e477-854c-47d0-80de-b09b517c9c1d",
   "metadata": {
    "tags": []
   },
   "outputs": [],
   "source": [
    "def kubik(n) :\n",
    "    \"\"\" 3. Potenz berechnen \"\"\"\n",
    "    return quadrat(n) * n"
   ]
  },
  {
   "cell_type": "code",
   "execution_count": null,
   "id": "fec70bae-1755-44fa-9cd4-3b1b07b32186",
   "metadata": {
    "tags": []
   },
   "outputs": [],
   "source": [
    "kubik(3)"
   ]
  },
  {
   "cell_type": "code",
   "execution_count": null,
   "id": "a65f345c-de89-4f10-9c83-46f31168d4d1",
   "metadata": {
    "tags": []
   },
   "outputs": [],
   "source": [
    "def biquadrat(n) :\n",
    "    \"\"\" 4. Potenz berechnen \"\"\"\n",
    "    return quadrat(quadrat(n))"
   ]
  },
  {
   "cell_type": "code",
   "execution_count": null,
   "id": "cec50916-e554-4e1a-812b-e50a33e781c3",
   "metadata": {
    "tags": []
   },
   "outputs": [],
   "source": [
    "biquadrat(3)"
   ]
  },
  {
   "cell_type": "markdown",
   "id": "a7e9d4e1-0fb0-4892-817f-9500085a94ef",
   "metadata": {},
   "source": [
    "## Rekursive Funktionen\n",
    "Funktionen dürfen sich rekursiv selber aufrufen.\n",
    "\n",
    "Beispiel: Das Produkt der ersten $n$ natürlichen Zahlen $n!$ (n- Fakultät) kann rekursiv definiert werden durch<br>\n",
    "$0! := 1$<br>\n",
    "$n! := n \\cdot (n-1)!$ für $n>0$"
   ]
  },
  {
   "cell_type": "code",
   "execution_count": null,
   "id": "32db1ee8-540f-4318-bdd2-eab17b56bf7b",
   "metadata": {
    "tags": []
   },
   "outputs": [],
   "source": [
    "def fak(n) :\n",
    "    \"\"\" \n",
    "    Berechnung von n! = 1 * 2 * 3 * ... * n \n",
    "    \"\"\"\n",
    "    if n <= 1 :\n",
    "        return 1\n",
    "    return n * fak(n-1)"
   ]
  },
  {
   "cell_type": "code",
   "execution_count": null,
   "id": "1fff83c4-a3b5-4dbf-bbe7-b3d3a4033f6c",
   "metadata": {
    "tags": []
   },
   "outputs": [],
   "source": [
    "fak(4)"
   ]
  },
  {
   "cell_type": "code",
   "execution_count": null,
   "id": "e8785ef6-10b8-4c18-a6c5-e108789f1a95",
   "metadata": {
    "tags": []
   },
   "outputs": [],
   "source": [
    "fak(2000)"
   ]
  },
  {
   "cell_type": "code",
   "execution_count": null,
   "id": "8be5efdf-6e50-4dac-ad84-db41559fa0f7",
   "metadata": {
    "tags": []
   },
   "outputs": [],
   "source": [
    "def fak_loop(n):\n",
    "    res = 1\n",
    "    for faktor in range(2, (n+1)):\n",
    "        res *= faktor\n",
    "    return res"
   ]
  },
  {
   "cell_type": "code",
   "execution_count": null,
   "id": "e387223d-fe03-4c55-a185-af33b22e7b04",
   "metadata": {
    "tags": []
   },
   "outputs": [],
   "source": [
    "fak_loop(4)"
   ]
  },
  {
   "cell_type": "code",
   "execution_count": null,
   "id": "05d144a3-259e-46f5-88ef-bc86eb1f7d25",
   "metadata": {
    "tags": []
   },
   "outputs": [],
   "source": [
    "fak_loop(2000)"
   ]
  },
  {
   "cell_type": "markdown",
   "id": "8103745d-9e65-4c6f-b26e-4cef2608cd30",
   "metadata": {},
   "source": [
    "## Optionale Parameter"
   ]
  },
  {
   "cell_type": "code",
   "execution_count": null,
   "id": "a0478a07-0a64-4f5b-a72a-137cf57dbf32",
   "metadata": {
    "tags": []
   },
   "outputs": [],
   "source": [
    "def scale(x, factor=2) :\n",
    "    \"\"\" Multipliziert Argument mit einem Faktor; \n",
    "        der Defaultwert des Faktors ist 2 \"\"\"\n",
    "    return x * factor"
   ]
  },
  {
   "cell_type": "code",
   "execution_count": null,
   "id": "a9a3256d-2270-4bac-99a2-9758661ec145",
   "metadata": {
    "tags": []
   },
   "outputs": [],
   "source": [
    "scale(12345, 10)"
   ]
  },
  {
   "cell_type": "code",
   "execution_count": null,
   "id": "4759bd8e-63fb-4630-8f24-89d17ffca9f5",
   "metadata": {
    "tags": []
   },
   "outputs": [],
   "source": [
    "scale(12345)"
   ]
  },
  {
   "cell_type": "code",
   "execution_count": null,
   "id": "3f47b171-e864-4fdc-8cb1-2c521d13b73f",
   "metadata": {},
   "outputs": [],
   "source": [
    "def ungefaehr_gleich(x, y, tol=0.01) :\n",
    "    diff = x - y\n",
    "    return -tol < diff < tol  \n",
    "    # return abs(diff) < tol"
   ]
  },
  {
   "cell_type": "code",
   "execution_count": null,
   "id": "ce224497-02c3-4b0f-9955-91dfeaf78585",
   "metadata": {},
   "outputs": [],
   "source": [
    "ungefaehr_gleich(1.1, 1.10001)"
   ]
  },
  {
   "cell_type": "code",
   "execution_count": null,
   "id": "35b4403e-941b-4731-8a8b-ecdb911c8e3e",
   "metadata": {
    "tags": []
   },
   "outputs": [],
   "source": [
    "ungefaehr_gleich(1.1, 1.11)"
   ]
  },
  {
   "cell_type": "code",
   "execution_count": null,
   "id": "e5f3330c-4d2c-4080-a465-a515fd809e16",
   "metadata": {
    "tags": []
   },
   "outputs": [],
   "source": [
    "print(1, 2, 3)"
   ]
  },
  {
   "cell_type": "code",
   "execution_count": null,
   "id": "6fd58625-0a15-49b5-9232-a07e781c3a39",
   "metadata": {
    "tags": []
   },
   "outputs": [],
   "source": [
    "print(1, 2, 3, sep=\", \")"
   ]
  },
  {
   "cell_type": "code",
   "execution_count": null,
   "id": "903b2ea6-3a3a-4faf-8fe3-f524e1499a60",
   "metadata": {
    "tags": []
   },
   "outputs": [],
   "source": [
    "help(print)"
   ]
  },
  {
   "cell_type": "code",
   "execution_count": null,
   "id": "a89a989c-2c48-4535-aa77-74d6131d7e64",
   "metadata": {
    "tags": []
   },
   "outputs": [],
   "source": [
    "print(1, end='')\n",
    "print(2, end='')\n",
    "print(3, end='')"
   ]
  },
  {
   "cell_type": "markdown",
   "id": "30638d53-114c-4946-8583-34e90218bb07",
   "metadata": {},
   "source": [
    "## Keyword-Parameter\n",
    "Funktionsparameter können auch via Name übergeben werden"
   ]
  },
  {
   "cell_type": "code",
   "execution_count": null,
   "id": "abeeaf09-9b1d-4660-b33b-e00bb7610eb4",
   "metadata": {
    "tags": []
   },
   "outputs": [],
   "source": [
    "def person(name, vorname, anrede=None) :\n",
    "    if anrede == None or len(anrede.strip()) == 0 :\n",
    "        return f\"{vorname} {name}\"\n",
    "    else :\n",
    "        return f\"{anrede} {vorname} {name}\""
   ]
  },
  {
   "cell_type": "code",
   "execution_count": null,
   "id": "71671fcc-ac4a-4f6f-b628-baadd030f3f6",
   "metadata": {
    "tags": []
   },
   "outputs": [],
   "source": [
    "person(\"Keller\", \"Anna\", \"Frau\")"
   ]
  },
  {
   "cell_type": "code",
   "execution_count": null,
   "id": "575d7798",
   "metadata": {
    "tags": []
   },
   "outputs": [],
   "source": [
    "person(\"Keller\", \"Anna\")"
   ]
  },
  {
   "cell_type": "code",
   "execution_count": null,
   "id": "cdc6e107-b4fd-4342-b9fe-498b36de7b07",
   "metadata": {
    "tags": []
   },
   "outputs": [],
   "source": [
    "person(name=\"Keller\", vorname=\"Anna\", anrede=\"Frau\")"
   ]
  },
  {
   "cell_type": "code",
   "execution_count": null,
   "id": "fb818097-c30f-4460-b92b-1d85175e5f33",
   "metadata": {
    "tags": []
   },
   "outputs": [],
   "source": [
    "person(anrede=\"Frau\", vorname=\"Anna\", name=\"Keller\")"
   ]
  },
  {
   "cell_type": "markdown",
   "id": "84a5dd19-8523-4048-9fbc-5f085124c78c",
   "metadata": {},
   "source": [
    "#### Erzwingen von positional und Keyword"
   ]
  },
  {
   "cell_type": "code",
   "execution_count": null,
   "id": "9abdb6b1-22a1-4579-907d-c897dc15c63a",
   "metadata": {},
   "outputs": [],
   "source": [
    "def test(a, *, b):\n",
    "    return a + b\n",
    "print(test(1, b=10))\n",
    "print(test(1, 10))"
   ]
  },
  {
   "cell_type": "code",
   "execution_count": null,
   "id": "43f229bb-f779-4a3e-b599-c65e437e97a9",
   "metadata": {},
   "outputs": [],
   "source": [
    "def test(a, /, b):\n",
    "    return a + b\n",
    "print(test(1, 10))\n",
    "print(test(1, b=10))\n",
    "print(test(a=1, b=10))"
   ]
  },
  {
   "cell_type": "markdown",
   "id": "9f93ae52-8e8d-4910-be58-e211057c27d4",
   "metadata": {},
   "source": [
    "### Parameter als Dictionary übergeben"
   ]
  },
  {
   "cell_type": "code",
   "execution_count": null,
   "id": "718555b0-0c86-4990-aaba-7da69b6cae16",
   "metadata": {},
   "outputs": [],
   "source": [
    "d = {'anrede' : 'Frau', 'name': 'Keller', 'vorname': 'Anna'}"
   ]
  },
  {
   "cell_type": "code",
   "execution_count": null,
   "id": "52ebe56d-df15-4c81-b381-08f42dc23881",
   "metadata": {},
   "outputs": [],
   "source": [
    "person(**d) # person(anrede='Frau', name='Keller', vorname='Anna')"
   ]
  },
  {
   "cell_type": "code",
   "execution_count": null,
   "id": "52268338-50d3-49e2-a927-563286517d7f",
   "metadata": {},
   "outputs": [],
   "source": [
    "{'aa': 123, **d}"
   ]
  },
  {
   "cell_type": "markdown",
   "id": "f1742eb2-5f55-40f8-83fa-c1b4a93b7f06",
   "metadata": {},
   "source": [
    "### Parameter als Liste übergeben"
   ]
  },
  {
   "cell_type": "code",
   "execution_count": null,
   "id": "188bfe6d-c79d-429f-889a-400d32802866",
   "metadata": {
    "tags": []
   },
   "outputs": [],
   "source": [
    "li = ['Keller', 'Anna', 'Frau', ]"
   ]
  },
  {
   "cell_type": "code",
   "execution_count": null,
   "id": "61e8b0d1-c4c0-449e-a6dc-4ac275395842",
   "metadata": {
    "tags": []
   },
   "outputs": [],
   "source": [
    "person(*li) # gleich wie person('Keller', 'Anna')"
   ]
  },
  {
   "cell_type": "code",
   "execution_count": null,
   "id": "bf8cb940-8410-4841-bd53-d2bcd8536540",
   "metadata": {},
   "outputs": [],
   "source": [
    "['aaa', *li]"
   ]
  },
  {
   "cell_type": "markdown",
   "id": "41301412-fcda-4cd8-a718-e8c7ece864b7",
   "metadata": {},
   "source": [
    "## Variable Anzahl Argumente"
   ]
  },
  {
   "cell_type": "code",
   "execution_count": null,
   "id": "e96c0f26-ce6f-4f84-8e8b-8b258c6f28fd",
   "metadata": {
    "tags": []
   },
   "outputs": [],
   "source": [
    "print(1, 2, 3, 4, 5)"
   ]
  },
  {
   "cell_type": "code",
   "execution_count": null,
   "id": "5d9d3dec-b592-44d5-8d91-460699f7d0dd",
   "metadata": {
    "tags": []
   },
   "outputs": [],
   "source": [
    "def print_data(typ, *daten) :\n",
    "    print(typ)\n",
    "    print(daten)\n",
    "    print(f'Datentyp: {type(daten)}')"
   ]
  },
  {
   "cell_type": "code",
   "execution_count": null,
   "id": "2f1bf53b-00d1-4071-919a-3e92050ea4e8",
   "metadata": {
    "tags": []
   },
   "outputs": [],
   "source": [
    "print_data(\"Buchungen\", 12, 23, 34, 56, 123)"
   ]
  },
  {
   "cell_type": "code",
   "execution_count": null,
   "id": "f2850a3b-504f-4df3-95c2-1515d8496c50",
   "metadata": {},
   "outputs": [],
   "source": [
    "daten = (111,222,333)\n",
    "print_data(\"Buchungen\", *daten)"
   ]
  },
  {
   "cell_type": "code",
   "execution_count": null,
   "id": "d38cbd30-f931-4d53-9d6b-99a395003b3a",
   "metadata": {},
   "outputs": [],
   "source": [
    "pers_daten = (\"Künzi\", \"Urs-Martin\", \"Herr\")\n",
    "person(*pers_daten)"
   ]
  },
  {
   "cell_type": "code",
   "execution_count": null,
   "id": "e3cbf5a7-3cae-4258-b82c-74de6d3abe3e",
   "metadata": {
    "tags": []
   },
   "outputs": [],
   "source": [
    "def print_data2(typ, **daten) :\n",
    "    print(typ)\n",
    "    print(daten)\n",
    "    print(f'Datentyp: {type(daten)}')"
   ]
  },
  {
   "cell_type": "code",
   "execution_count": null,
   "id": "562048af-df90-4348-a3be-19f14d22df56",
   "metadata": {
    "tags": []
   },
   "outputs": [],
   "source": [
    "print_data2(typ=\"qwert\", a=11, b=22, c=33)"
   ]
  },
  {
   "cell_type": "code",
   "execution_count": null,
   "id": "f3b07285-220b-4217-be50-787434d75c3c",
   "metadata": {},
   "outputs": [],
   "source": []
  },
  {
   "cell_type": "code",
   "execution_count": null,
   "id": "8bf5cfba-7986-43bc-a9fc-c39e87457d9e",
   "metadata": {
    "tags": []
   },
   "outputs": [],
   "source": [
    "def potenzen(x):\n",
    "    quad = x * x\n",
    "    kubus = quad * x\n",
    "    bi_quad = quad * quad\n",
    "    return (quad, kubus, bi_quad)"
   ]
  },
  {
   "cell_type": "code",
   "execution_count": null,
   "id": "da2618c6-83c0-46cb-8793-c8cdf5f1d7fa",
   "metadata": {
    "tags": []
   },
   "outputs": [],
   "source": [
    "potenzen(10)"
   ]
  },
  {
   "cell_type": "code",
   "execution_count": null,
   "id": "aeaea6c7-6c33-4b87-9108-1bb37f552b26",
   "metadata": {
    "tags": []
   },
   "outputs": [],
   "source": [
    "tup = potenzen(10)\n",
    "print(tup[0])\n",
    "print(tup[1])\n",
    "print(tup[2])"
   ]
  },
  {
   "cell_type": "code",
   "execution_count": null,
   "id": "bb0f32b9-0de4-45a9-8201-6cde108024d4",
   "metadata": {
    "tags": []
   },
   "outputs": [],
   "source": [
    "quadrat, kubus, biquadrat = potenzen(10)\n",
    "print(quadrat)\n",
    "print(kubus)\n",
    "print(biquadrat)"
   ]
  },
  {
   "cell_type": "code",
   "execution_count": null,
   "id": "20fc39a0-8622-44ae-89e4-8fe55088c2e2",
   "metadata": {},
   "outputs": [],
   "source": []
  },
  {
   "cell_type": "markdown",
   "id": "01f60acf-924d-488b-98fa-c9ba38be1614",
   "metadata": {},
   "source": [
    "### Funktionen als Parameter"
   ]
  },
  {
   "cell_type": "code",
   "execution_count": null,
   "id": "7de7c6f2-00c3-4b04-921e-4a1870784893",
   "metadata": {
    "tags": []
   },
   "outputs": [],
   "source": [
    "liste = [('a', 2), ('b', 1), ('c', 4), ('a', 1)]"
   ]
  },
  {
   "cell_type": "code",
   "execution_count": null,
   "id": "21e4fa52-d763-4bb1-a1c0-b5a4a9965baf",
   "metadata": {
    "tags": []
   },
   "outputs": [],
   "source": [
    "def fst(paar) :\n",
    "    return paar[0]\n",
    "\n",
    "def snd(paar) :\n",
    "    return paar[1]"
   ]
  },
  {
   "cell_type": "code",
   "execution_count": null,
   "id": "34e23419-2d09-4a43-9e16-23c43214e4fe",
   "metadata": {
    "tags": []
   },
   "outputs": [],
   "source": [
    "liste.sort()\n",
    "liste"
   ]
  },
  {
   "cell_type": "code",
   "execution_count": null,
   "id": "3984c255-22a9-4cbf-8a3a-c870fc62e7ab",
   "metadata": {
    "tags": []
   },
   "outputs": [],
   "source": [
    "liste.sort(key=snd)  # eine Funktion wird als Argument übergeben\n",
    "liste"
   ]
  },
  {
   "cell_type": "code",
   "execution_count": null,
   "id": "a77b11f4-2ec6-4dc6-8314-8c1f67b0fc6d",
   "metadata": {
    "tags": []
   },
   "outputs": [],
   "source": [
    "liste.sort(key=fst)  # eine Funktion wird als Argument übergeben\n",
    "liste"
   ]
  },
  {
   "cell_type": "markdown",
   "id": "ec42e895-8bf1-4c3f-a253-e460d5cf9418",
   "metadata": {},
   "source": [
    "### Lambda-Ausdrücke\n",
    "Wenn eine Funktion der Form    \n",
    "`def blah(x, y):`     \n",
    "`    return ausdruck`    \n",
    "als Argument übergeben werden muss, ist es etwas umständlich, diese «ad hoc» Funktion zu definieren.    \n",
    "Dafür gibt es die vereinfachte Schreibweise mit lambda-Ausdrücken:     \n",
    "`blah = lambda x, y: ausdruck`."
   ]
  },
  {
   "cell_type": "code",
   "execution_count": null,
   "id": "874d4afa-6941-4166-949b-6d375ee69ec4",
   "metadata": {
    "tags": []
   },
   "outputs": [],
   "source": [
    "# Beispiel eines Lambda-Ausdruckes in Sortieranweisung\n",
    "liste.sort(key = lambda paar : paar[1])\n",
    "liste"
   ]
  },
  {
   "cell_type": "markdown",
   "id": "01d0454b-d735-4995-b109-f2a0d9974bee",
   "metadata": {},
   "source": [
    "Bemerkung: in R:      \n",
    "`f <- function(x, y) {...}`"
   ]
  },
  {
   "cell_type": "code",
   "execution_count": null,
   "id": "26d4511f-ab42-4b12-9bdb-d7631864efd7",
   "metadata": {},
   "outputs": [],
   "source": []
  }
 ],
 "metadata": {
  "kernelspec": {
   "display_name": "Python 3 (ipykernel)",
   "language": "python",
   "name": "python3"
  },
  "language_info": {
   "codemirror_mode": {
    "name": "ipython",
    "version": 3
   },
   "file_extension": ".py",
   "mimetype": "text/x-python",
   "name": "python",
   "nbconvert_exporter": "python",
   "pygments_lexer": "ipython3",
   "version": "3.11.7"
  }
 },
 "nbformat": 4,
 "nbformat_minor": 5
}
