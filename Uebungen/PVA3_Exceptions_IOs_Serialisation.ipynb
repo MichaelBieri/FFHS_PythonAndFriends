{
 "cells": [
  {
   "cell_type": "markdown",
   "metadata": {
    "jp-MarkdownHeadingCollapsed": true,
    "pycharm": {
     "name": "#%% md\n"
    }
   },
   "source": [
    "# Exceptions\n",
    "+ Wenn beim Ausführen eines Programmes eine Fehler auftritt, wird eine Exception geworfen.\n",
    "+ Eine Exception ist ein Objekt mit einer Klasse (Type) und in der Regel einer Fehlermeldung.\n",
    "+ Wenn nichts vorgenommen wird, führt eine Exception zum Programmabbruch."
   ]
  },
  {
   "cell_type": "code",
   "execution_count": 1,
   "metadata": {
    "jupyter": {
     "source_hidden": true
    },
    "pycharm": {
     "name": "#%%\n"
    }
   },
   "outputs": [
    {
     "ename": "ZeroDivisionError",
     "evalue": "division by zero",
     "output_type": "error",
     "traceback": [
      "\u001b[1;31m---------------------------------------------------------------------------\u001b[0m",
      "\u001b[1;31mZeroDivisionError\u001b[0m                         Traceback (most recent call last)",
      "Cell \u001b[1;32mIn[1], line 1\u001b[0m\n\u001b[1;32m----> 1\u001b[0m \u001b[38;5;241;43m2\u001b[39;49m\u001b[43m \u001b[49m\u001b[38;5;241;43m/\u001b[39;49m\u001b[43m \u001b[49m\u001b[38;5;241;43m0\u001b[39;49m\n",
      "\u001b[1;31mZeroDivisionError\u001b[0m: division by zero"
     ]
    }
   ],
   "source": [
    "2 / 0"
   ]
  },
  {
   "cell_type": "code",
   "execution_count": 2,
   "metadata": {
    "jupyter": {
     "source_hidden": true
    },
    "pycharm": {
     "name": "#%%\n"
    }
   },
   "outputs": [
    {
     "ename": "NameError",
     "evalue": "name 's' is not defined",
     "output_type": "error",
     "traceback": [
      "\u001b[1;31m---------------------------------------------------------------------------\u001b[0m",
      "\u001b[1;31mNameError\u001b[0m                                 Traceback (most recent call last)",
      "Cell \u001b[1;32mIn[2], line 1\u001b[0m\n\u001b[1;32m----> 1\u001b[0m \u001b[43ms\u001b[49m \u001b[38;5;241m+\u001b[39m \u001b[38;5;241m3\u001b[39m\n",
      "\u001b[1;31mNameError\u001b[0m: name 's' is not defined"
     ]
    }
   ],
   "source": [
    "s + 3"
   ]
  },
  {
   "cell_type": "code",
   "execution_count": 3,
   "metadata": {
    "pycharm": {
     "name": "#%%\n"
    }
   },
   "outputs": [
    {
     "ename": "AttributeError",
     "evalue": "'list' object has no attribute 'blah'",
     "output_type": "error",
     "traceback": [
      "\u001b[1;31m---------------------------------------------------------------------------\u001b[0m",
      "\u001b[1;31mAttributeError\u001b[0m                            Traceback (most recent call last)",
      "Cell \u001b[1;32mIn[3], line 1\u001b[0m\n\u001b[1;32m----> 1\u001b[0m \u001b[43m[\u001b[49m\u001b[38;5;241;43m1\u001b[39;49m\u001b[43m,\u001b[49m\u001b[38;5;241;43m2\u001b[39;49m\u001b[43m,\u001b[49m\u001b[38;5;241;43m3\u001b[39;49m\u001b[43m]\u001b[49m\u001b[38;5;241;43m.\u001b[39;49m\u001b[43mblah\u001b[49m()\n",
      "\u001b[1;31mAttributeError\u001b[0m: 'list' object has no attribute 'blah'"
     ]
    }
   ],
   "source": [
    "[1,2,3].blah()"
   ]
  },
  {
   "cell_type": "code",
   "execution_count": 4,
   "metadata": {
    "pycharm": {
     "name": "#%%\n"
    }
   },
   "outputs": [
    {
     "ename": "IndexError",
     "evalue": "list index out of range",
     "output_type": "error",
     "traceback": [
      "\u001b[1;31m---------------------------------------------------------------------------\u001b[0m",
      "\u001b[1;31mIndexError\u001b[0m                                Traceback (most recent call last)",
      "Cell \u001b[1;32mIn[4], line 1\u001b[0m\n\u001b[1;32m----> 1\u001b[0m \u001b[43m[\u001b[49m\u001b[38;5;241;43m1\u001b[39;49m\u001b[43m,\u001b[49m\u001b[38;5;241;43m2\u001b[39;49m\u001b[43m,\u001b[49m\u001b[38;5;241;43m3\u001b[39;49m\u001b[43m]\u001b[49m\u001b[43m[\u001b[49m\u001b[38;5;241;43m3\u001b[39;49m\u001b[43m]\u001b[49m\n",
      "\u001b[1;31mIndexError\u001b[0m: list index out of range"
     ]
    }
   ],
   "source": [
    "[1,2,3][3]"
   ]
  },
  {
   "cell_type": "code",
   "execution_count": 5,
   "metadata": {
    "pycharm": {
     "name": "#%%\n"
    }
   },
   "outputs": [
    {
     "ename": "KeyError",
     "evalue": "'a'",
     "output_type": "error",
     "traceback": [
      "\u001b[1;31m---------------------------------------------------------------------------\u001b[0m",
      "\u001b[1;31mKeyError\u001b[0m                                  Traceback (most recent call last)",
      "Cell \u001b[1;32mIn[5], line 1\u001b[0m\n\u001b[1;32m----> 1\u001b[0m \u001b[43m{\u001b[49m\u001b[38;5;124;43m'\u001b[39;49m\u001b[38;5;124;43mb\u001b[39;49m\u001b[38;5;124;43m'\u001b[39;49m\u001b[43m:\u001b[49m\u001b[43m \u001b[49m\u001b[38;5;241;43m22\u001b[39;49m\u001b[43m,\u001b[49m\u001b[43m \u001b[49m\u001b[38;5;124;43m'\u001b[39;49m\u001b[38;5;124;43mc\u001b[39;49m\u001b[38;5;124;43m'\u001b[39;49m\u001b[43m:\u001b[49m\u001b[43m \u001b[49m\u001b[38;5;241;43m33\u001b[39;49m\u001b[43m}\u001b[49m\u001b[43m[\u001b[49m\u001b[38;5;124;43m'\u001b[39;49m\u001b[38;5;124;43ma\u001b[39;49m\u001b[38;5;124;43m'\u001b[39;49m\u001b[43m]\u001b[49m\n",
      "\u001b[1;31mKeyError\u001b[0m: 'a'"
     ]
    }
   ],
   "source": [
    "{'b': 22, 'c': 33}['a']"
   ]
  },
  {
   "cell_type": "code",
   "execution_count": 6,
   "metadata": {
    "pycharm": {
     "name": "#%%\n"
    }
   },
   "outputs": [
    {
     "ename": "RecursionError",
     "evalue": "maximum recursion depth exceeded",
     "output_type": "error",
     "traceback": [
      "\u001b[1;31m---------------------------------------------------------------------------\u001b[0m",
      "\u001b[1;31mRecursionError\u001b[0m                            Traceback (most recent call last)",
      "Cell \u001b[1;32mIn[6], line 3\u001b[0m\n\u001b[0;32m      1\u001b[0m \u001b[38;5;28;01mdef\u001b[39;00m \u001b[38;5;21mloop\u001b[39m() :\n\u001b[0;32m      2\u001b[0m     \u001b[38;5;28;01mreturn\u001b[39;00m \u001b[38;5;241m1\u001b[39m \u001b[38;5;241m+\u001b[39m loop()\n\u001b[1;32m----> 3\u001b[0m \u001b[43mloop\u001b[49m\u001b[43m(\u001b[49m\u001b[43m)\u001b[49m\n",
      "Cell \u001b[1;32mIn[6], line 2\u001b[0m, in \u001b[0;36mloop\u001b[1;34m()\u001b[0m\n\u001b[0;32m      1\u001b[0m \u001b[38;5;28;01mdef\u001b[39;00m \u001b[38;5;21mloop\u001b[39m() :\n\u001b[1;32m----> 2\u001b[0m     \u001b[38;5;28;01mreturn\u001b[39;00m \u001b[38;5;241m1\u001b[39m \u001b[38;5;241m+\u001b[39m \u001b[43mloop\u001b[49m\u001b[43m(\u001b[49m\u001b[43m)\u001b[49m\n",
      "Cell \u001b[1;32mIn[6], line 2\u001b[0m, in \u001b[0;36mloop\u001b[1;34m()\u001b[0m\n\u001b[0;32m      1\u001b[0m \u001b[38;5;28;01mdef\u001b[39;00m \u001b[38;5;21mloop\u001b[39m() :\n\u001b[1;32m----> 2\u001b[0m     \u001b[38;5;28;01mreturn\u001b[39;00m \u001b[38;5;241m1\u001b[39m \u001b[38;5;241m+\u001b[39m \u001b[43mloop\u001b[49m\u001b[43m(\u001b[49m\u001b[43m)\u001b[49m\n",
      "    \u001b[1;31m[... skipping similar frames: loop at line 2 (2974 times)]\u001b[0m\n",
      "Cell \u001b[1;32mIn[6], line 2\u001b[0m, in \u001b[0;36mloop\u001b[1;34m()\u001b[0m\n\u001b[0;32m      1\u001b[0m \u001b[38;5;28;01mdef\u001b[39;00m \u001b[38;5;21mloop\u001b[39m() :\n\u001b[1;32m----> 2\u001b[0m     \u001b[38;5;28;01mreturn\u001b[39;00m \u001b[38;5;241m1\u001b[39m \u001b[38;5;241m+\u001b[39m \u001b[43mloop\u001b[49m\u001b[43m(\u001b[49m\u001b[43m)\u001b[49m\n",
      "\u001b[1;31mRecursionError\u001b[0m: maximum recursion depth exceeded"
     ]
    }
   ],
   "source": [
    "def loop() :\n",
    "    return 1 + loop()\n",
    "loop()"
   ]
  },
  {
   "cell_type": "markdown",
   "metadata": {
    "pycharm": {
     "name": "#%% md\n"
    }
   },
   "source": [
    "### Erläuterung: \n",
    "+ Rot in der Ausgabe: Typ der Exception\n",
    "+ Schwarz in der letzten Zeile: Fehlerbeschreibung"
   ]
  },
  {
   "cell_type": "code",
   "execution_count": 9,
   "metadata": {
    "pycharm": {
     "name": "#%%\n"
    },
    "tags": []
   },
   "outputs": [],
   "source": [
    "def aa(x) :\n",
    "    resultat = 2 + x\n",
    "    resultat += bb(x)\n",
    "    return resultat\n",
    "\n",
    "def bb(x) :\n",
    "    y = 4 + cc(x)\n",
    "    return y \n",
    "    \n",
    "def cc(x) :\n",
    "    return 1 / x"
   ]
  },
  {
   "cell_type": "code",
   "execution_count": 10,
   "metadata": {
    "pycharm": {
     "name": "#%%\n"
    },
    "tags": []
   },
   "outputs": [
    {
     "ename": "ZeroDivisionError",
     "evalue": "division by zero",
     "output_type": "error",
     "traceback": [
      "\u001b[1;31m---------------------------------------------------------------------------\u001b[0m",
      "\u001b[1;31mZeroDivisionError\u001b[0m                         Traceback (most recent call last)",
      "Cell \u001b[1;32mIn[10], line 1\u001b[0m\n\u001b[1;32m----> 1\u001b[0m \u001b[43maa\u001b[49m\u001b[43m(\u001b[49m\u001b[38;5;241;43m0\u001b[39;49m\u001b[43m)\u001b[49m\n",
      "Cell \u001b[1;32mIn[9], line 3\u001b[0m, in \u001b[0;36maa\u001b[1;34m(x)\u001b[0m\n\u001b[0;32m      1\u001b[0m \u001b[38;5;28;01mdef\u001b[39;00m \u001b[38;5;21maa\u001b[39m(x) :\n\u001b[0;32m      2\u001b[0m     resultat \u001b[38;5;241m=\u001b[39m \u001b[38;5;241m2\u001b[39m \u001b[38;5;241m+\u001b[39m x\n\u001b[1;32m----> 3\u001b[0m     resultat \u001b[38;5;241m+\u001b[39m\u001b[38;5;241m=\u001b[39m \u001b[43mbb\u001b[49m\u001b[43m(\u001b[49m\u001b[43mx\u001b[49m\u001b[43m)\u001b[49m\n\u001b[0;32m      4\u001b[0m     \u001b[38;5;28;01mreturn\u001b[39;00m resultat\n",
      "Cell \u001b[1;32mIn[9], line 7\u001b[0m, in \u001b[0;36mbb\u001b[1;34m(x)\u001b[0m\n\u001b[0;32m      6\u001b[0m \u001b[38;5;28;01mdef\u001b[39;00m \u001b[38;5;21mbb\u001b[39m(x) :\n\u001b[1;32m----> 7\u001b[0m     y \u001b[38;5;241m=\u001b[39m \u001b[38;5;241m4\u001b[39m \u001b[38;5;241m+\u001b[39m \u001b[43mcc\u001b[49m\u001b[43m(\u001b[49m\u001b[43mx\u001b[49m\u001b[43m)\u001b[49m\n\u001b[0;32m      8\u001b[0m     \u001b[38;5;28;01mreturn\u001b[39;00m y\n",
      "Cell \u001b[1;32mIn[9], line 11\u001b[0m, in \u001b[0;36mcc\u001b[1;34m(x)\u001b[0m\n\u001b[0;32m     10\u001b[0m \u001b[38;5;28;01mdef\u001b[39;00m \u001b[38;5;21mcc\u001b[39m(x) :\n\u001b[1;32m---> 11\u001b[0m     \u001b[38;5;28;01mreturn\u001b[39;00m \u001b[38;5;241;43m1\u001b[39;49m\u001b[43m \u001b[49m\u001b[38;5;241;43m/\u001b[39;49m\u001b[43m \u001b[49m\u001b[43mx\u001b[49m\n",
      "\u001b[1;31mZeroDivisionError\u001b[0m: division by zero"
     ]
    }
   ],
   "source": [
    "aa(0)"
   ]
  },
  {
   "cell_type": "markdown",
   "metadata": {
    "pycharm": {
     "name": "#%% md\n"
    }
   },
   "source": [
    "### Erläuterung: \n",
    "+ Rot in der Ausgabe: Typ der Exception\n",
    "+ Schwarz in der letzten Zeile: Fehlerbeschreibung\n",
    "+ Zwischen erster und letzter Zeile: Wo der Fehler genau aufgetreten ist"
   ]
  },
  {
   "cell_type": "markdown",
   "metadata": {
    "pycharm": {
     "name": "#%% md\n"
    }
   },
   "source": [
    "## Programmatisches Abfangen einer Exception\n",
    "* Wenn eine Exception auftritt, so führt das zum Abbruch der Ausführung einer Funktion bzw einer Methode. \n",
    "* Der Abbruch kann aufgefangen werden, wenn die Exception aufgefangen wird\n",
    "* Dazu gibt es das try - except Konstrukt\n",
    "* Einfachste Form für das Auffangen einer Exception mit try "
   ]
  },
  {
   "cell_type": "code",
   "execution_count": 11,
   "metadata": {
    "pycharm": {
     "name": "#%%\n"
    }
   },
   "outputs": [
    {
     "name": "stdout",
     "output_type": "stream",
     "text": [
      "110\n",
      "Es ist ein Fehler entstanden\n",
      "Es geht weiter\n"
     ]
    }
   ],
   "source": [
    "b = 100\n",
    "\n",
    "try :\n",
    "    print(b + 10)\n",
    "    print(a + 20)\n",
    "    print(b + 30)\n",
    "except :\n",
    "    # Exception Block\n",
    "    print(\"Es ist ein Fehler entstanden\")\n",
    "print(\"Es geht weiter\")"
   ]
  },
  {
   "cell_type": "markdown",
   "metadata": {
    "pycharm": {
     "name": "#%% md\n"
    }
   },
   "source": [
    "### Arten von Exceptions\n",
    "+ Mit dem obigen Code kann man eine Exeption abfangen, im except-Block etwas tun und dann weiter fahren\n",
    "+ Man hat aber keine Information über die Art der Exception\n",
    "+ Will man auf die Exception zugreifen, so geht das mit der folgenden Variation: "
   ]
  },
  {
   "cell_type": "code",
   "execution_count": 12,
   "metadata": {
    "pycharm": {
     "name": "#%%\n"
    }
   },
   "outputs": [
    {
     "name": "stdout",
     "output_type": "stream",
     "text": [
      "110\n",
      "Es ist ein Fehler entstanden:\n",
      "name 'a' is not defined\n",
      "NameError(\"name 'a' is not defined\")\n",
      "<class 'NameError'>\n",
      "(\"name 'a' is not defined\",)\n",
      "Es geht weiter\n"
     ]
    }
   ],
   "source": [
    "try :\n",
    "    print(b + 10)\n",
    "    print(a + 20)\n",
    "    print(b + 30)\n",
    "except Exception as ex:\n",
    "    # Exception Block\n",
    "    print(\"Es ist ein Fehler entstanden:\")\n",
    "    print(ex)\n",
    "    print(repr(ex))\n",
    "    print(type(ex))\n",
    "    print(ex.args)\n",
    "print(\"Es geht weiter\")"
   ]
  },
  {
   "attachments": {
    "96ea5070-47c0-418f-87ca-5d55957fbcd7.png": {
     "image/png": "[encoded data removed]"
    }
   },
   "cell_type": "markdown",
   "metadata": {
    "pycharm": {
     "name": "#%% md\n"
    }
   },
   "source": [
    "## Exception-Hierarchie\n",
    "Es gibt folgende Exceptions:\n",
    "\n",
    "![exception-class-hierarchy.png](attachment:96ea5070-47c0-418f-87ca-5d55957fbcd7.png)\n",
    "\n",
    "Eine vollständige Beschreibung aller Exceptions findet man unter \n",
    "[Exception-Hierarchie](https://docs.python.org/3/library/exceptions.html)"
   ]
  },
  {
   "cell_type": "markdown",
   "metadata": {
    "pycharm": {
     "name": "#%% md\n"
    }
   },
   "source": [
    "### Beschreibung einiger Exception-Klassen\n",
    "+ Exception: Basis-Klasse aller Exceptions, die man catchen kann\n",
    "+ ZeroDivisionError\n",
    "+ LookupError\n",
    "    + IndexError: Falsche Indizierung eines Listen-Elements\n",
    "    + KeyError: Falscher Zugriff bei einem Dict\n",
    "+ AttributeError: Zugriff auf nicht existierendes Attributs oder auf nichtexistierende Methode eines Objekts\n",
    "+ NameError: Nichtdefinierter Variablenname\n",
    "+ ValueError: Unzulässiger Wert, z.B. math.sqrt(-1)\n",
    "+ TypeError: Unzulässiger Typ eines Arguments, z.B. 'a' - 'b'\n",
    "+ RuntimeError: Allgemeiner Fehler, kann verwendet werden, wenn sonst nichts passt"
   ]
  },
  {
   "cell_type": "markdown",
   "metadata": {
    "pycharm": {
     "name": "#%% md\n"
    }
   },
   "source": [
    "## Auffangen eines konkreten Exception-Typs"
   ]
  },
  {
   "cell_type": "code",
   "execution_count": 13,
   "metadata": {
    "pycharm": {
     "name": "#%%\n"
    }
   },
   "outputs": [
    {
     "name": "stdout",
     "output_type": "stream",
     "text": [
      "110\n",
      "130\n",
      "3\n",
      "Andere Exception aufgefangen\n"
     ]
    }
   ],
   "source": [
    "try :\n",
    "    print(b + 10)\n",
    "    # print(a + 20)\n",
    "    print(b + 30)\n",
    "    print([1,2,3][2])\n",
    "    print(1/0)\n",
    "except LookupError :\n",
    "    print(\"LookupError abgefangen\")\n",
    "except NameError as ex :\n",
    "    print(f\"NameError aufgefangen: {ex}\")\n",
    "except :\n",
    "    print(\"Andere Exception aufgefangen\")\n"
   ]
  },
  {
   "cell_type": "code",
   "execution_count": null,
   "metadata": {
    "pycharm": {
     "name": "#%%\n"
    }
   },
   "outputs": [],
   "source": [
    "f = open(\"Text.txt\")\n",
    "try :\n",
    "    inhalt = f.read()\n",
    "    zahl = int(inhalt)\n",
    "    print(zahl)\n",
    "except Exception as ex:\n",
    "    print(\"Es ist ein Fehler aufgetaucht:\")\n",
    "    print(type(ex))\n",
    "finally :\n",
    "    f.close()\n",
    "    print(\"Die Datei wurde geschlossen\")\n",
    "print(\"Es geht weiter\")"
   ]
  },
  {
   "cell_type": "code",
   "execution_count": null,
   "metadata": {
    "pycharm": {
     "name": "#%%\n"
    }
   },
   "outputs": [],
   "source": [
    "## Abgekürzte Schreibweise\n",
    "with open(\"Zahl.txt\") as f :\n",
    "    inhalt = f.read()\n",
    "    zahl = int(inhalt)\n",
    "    print(zahl)"
   ]
  },
  {
   "cell_type": "markdown",
   "metadata": {
    "pycharm": {
     "name": "#%% md\n"
    }
   },
   "source": [
    "## Programmatisches Erzeugen von Exceptions\n",
    "Mit raise können im Code selber Exceptions geworfen werden"
   ]
  },
  {
   "cell_type": "code",
   "execution_count": 14,
   "metadata": {
    "pycharm": {
     "name": "#%%\n"
    }
   },
   "outputs": [],
   "source": [
    "import math\n",
    "\n",
    "def kreisumfang(radius) :\n",
    "    if radius < 0 :\n",
    "        raise ValueError(\"Der Radius darf nicht negativ sein\")\n",
    "    return 2 * radius * math.pi"
   ]
  },
  {
   "cell_type": "code",
   "execution_count": 15,
   "metadata": {
    "pycharm": {
     "name": "#%%\n"
    }
   },
   "outputs": [
    {
     "data": {
      "text/plain": [
       "31.41592653589793"
      ]
     },
     "execution_count": 15,
     "metadata": {},
     "output_type": "execute_result"
    }
   ],
   "source": [
    "kreisumfang(5)"
   ]
  },
  {
   "cell_type": "code",
   "execution_count": 16,
   "metadata": {
    "pycharm": {
     "name": "#%%\n"
    }
   },
   "outputs": [
    {
     "ename": "ValueError",
     "evalue": "Der Radius darf nicht negativ sein",
     "output_type": "error",
     "traceback": [
      "\u001b[1;31m---------------------------------------------------------------------------\u001b[0m",
      "\u001b[1;31mValueError\u001b[0m                                Traceback (most recent call last)",
      "Cell \u001b[1;32mIn[16], line 1\u001b[0m\n\u001b[1;32m----> 1\u001b[0m \u001b[43mkreisumfang\u001b[49m\u001b[43m(\u001b[49m\u001b[38;5;241;43m-\u001b[39;49m\u001b[38;5;241;43m5\u001b[39;49m\u001b[43m)\u001b[49m\n",
      "Cell \u001b[1;32mIn[14], line 5\u001b[0m, in \u001b[0;36mkreisumfang\u001b[1;34m(radius)\u001b[0m\n\u001b[0;32m      3\u001b[0m \u001b[38;5;28;01mdef\u001b[39;00m \u001b[38;5;21mkreisumfang\u001b[39m(radius) :\n\u001b[0;32m      4\u001b[0m     \u001b[38;5;28;01mif\u001b[39;00m radius \u001b[38;5;241m<\u001b[39m \u001b[38;5;241m0\u001b[39m :\n\u001b[1;32m----> 5\u001b[0m         \u001b[38;5;28;01mraise\u001b[39;00m \u001b[38;5;167;01mValueError\u001b[39;00m(\u001b[38;5;124m\"\u001b[39m\u001b[38;5;124mDer Radius darf nicht negativ sein\u001b[39m\u001b[38;5;124m\"\u001b[39m)\n\u001b[0;32m      6\u001b[0m     \u001b[38;5;28;01mreturn\u001b[39;00m \u001b[38;5;241m2\u001b[39m \u001b[38;5;241m*\u001b[39m radius \u001b[38;5;241m*\u001b[39m math\u001b[38;5;241m.\u001b[39mpi\n",
      "\u001b[1;31mValueError\u001b[0m: Der Radius darf nicht negativ sein"
     ]
    }
   ],
   "source": [
    "kreisumfang(-5)"
   ]
  },
  {
   "cell_type": "code",
   "execution_count": null,
   "metadata": {
    "pycharm": {
     "name": "#%%\n"
    }
   },
   "outputs": [],
   "source": []
  },
  {
   "cell_type": "markdown",
   "metadata": {
    "jp-MarkdownHeadingCollapsed": true,
    "pycharm": {
     "name": "#%% md\n"
    }
   },
   "source": [
    "# Input-Output, Dateien\n",
    "+ Mit open(pfad, modus) wird ein File geöffnet zum Lesen oder schreiben\n",
    "+ pfad kann ein absoluter oder relativer Pfad sein\n",
    "+ modus besagt, ob das File zum Lesen oder zum Schreiben geöffnet wird:\n",
    "    + modus='r' um das File zum Lesen öffnen (Default); Error, wenn das File nicht existiert\n",
    "    + modus='w' um das File zum Schreiben zu öffnen;\n",
    "        + falls das File nicht existiert, wird es neu erstellt\n",
    "        + falls das File existiert, wird es überschrieben (alter Inhalt wird gelöscht)\n",
    "    + modus='a' um das File zum Schreiben zu öffnen\n",
    "        + falls das File nicht existiert, wird es neu erstellt\n",
    "        + falls das File existiert, wird an den alten Inhalt angehängt\n",
    "    + modus='x' um ein neues File zum Schreiben zu öffnen\n",
    "        + falls das File existiert, gibt es einen Error\n",
    "+ Es wird unterschieden, ob ein File ein textfile oder ein Binärfile ist\n",
    "    + Defaultmässig wird ein neues File im Textmodus geöffnet; <br>\n",
    "      es kann auch explizit mit einem 't' im Modus angegeben werden, z.B. open(\"file.txt\", 'rt')\n",
    "    + Um ein File im Binärmodus zu öffnen, muss im Modus ein 'b' stehen, z.B. open(\"bild.png\", 'rb')"
   ]
  },
  {
   "cell_type": "markdown",
   "metadata": {
    "pycharm": {
     "name": "#%% md\n"
    }
   },
   "source": [
    "## Lesen eines Files"
   ]
  },
  {
   "cell_type": "code",
   "execution_count": null,
   "metadata": {
    "pycharm": {
     "name": "#%%\n"
    }
   },
   "outputs": [],
   "source": [
    "# Lesen des ganzen Files\n",
    "f = open (\"qqq.txt\")\n",
    "text = f.read()\n",
    "print(text)\n",
    "f.close()"
   ]
  },
  {
   "cell_type": "code",
   "execution_count": null,
   "metadata": {
    "pycharm": {
     "name": "#%%\n"
    }
   },
   "outputs": [],
   "source": [
    "# Lesen einer Zeile\n",
    "f = open (\"qqq.txt\")\n",
    "zeile1 = f.readline()\n",
    "print(f\"Zeile1: {zeile1}\")\n",
    "zeile2 = f.readline()\n",
    "print(f\"Zeile2: {zeile2}\")\n",
    "f.close()"
   ]
  },
  {
   "cell_type": "code",
   "execution_count": null,
   "metadata": {
    "pycharm": {
     "name": "#%%\n"
    }
   },
   "outputs": [],
   "source": [
    "# Zeilenweises Einlesen aller Zeilen \n",
    "f = open (\"qqq.txt\")\n",
    "nr = 0\n",
    "for zeile in f :\n",
    "    nr += 1\n",
    "    print(f\"{nr}: {zeile}\")\n",
    "f.close()"
   ]
  },
  {
   "cell_type": "markdown",
   "metadata": {
    "pycharm": {
     "name": "#%% md\n"
    }
   },
   "source": [
    "## Schreiben eines Files"
   ]
  },
  {
   "cell_type": "code",
   "execution_count": null,
   "metadata": {
    "pycharm": {
     "name": "#%%\n"
    }
   },
   "outputs": [],
   "source": [
    "f = open(\"rrr.txt\", 'w')\n",
    "f.write(\"XYZ\")\n",
    "f.write(\"CDE\\n\")\n",
    "f.write(\"123\")\n",
    "f.close()"
   ]
  },
  {
   "cell_type": "markdown",
   "metadata": {
    "pycharm": {
     "name": "#%% md\n"
    }
   },
   "source": [
    "## close()\n",
    "+ Mit open(file,...) wird das File vom Betriebssystem gesperrt <br>\n",
    "(so dass es von andern Programmen nicht verändert werden darf)\n",
    "+ Es sollte daher sichergestellt werden, das das close immer ausgeführt wird.\n",
    "+ Das kann mit einem try - except erreicht werden, besser jedoch mit einem try - finally"
   ]
  },
  {
   "cell_type": "markdown",
   "metadata": {
    "pycharm": {
     "name": "#%% md\n"
    }
   },
   "source": [
    "## try — finally\n",
    "* Wird ein File geöffnet, so sollte dieses immer geschlossen werden, auch wenn ein Fehler auftritt. \n",
    "* Dazu gibt es das try — finally Konstrukt:"
   ]
  },
  {
   "cell_type": "code",
   "execution_count": null,
   "metadata": {
    "pycharm": {
     "name": "#%%\n"
    }
   },
   "outputs": [],
   "source": [
    "f = open(\"Zahl.txt\")\n",
    "try : \n",
    "    inhalt = f.read()\n",
    "    zahl = int(inhalt)\n",
    "    print(zahl)\n",
    "finally :\n",
    "    f.close()\n",
    "    print(\"Die Datei wurde geschlossen\")\n",
    "print(\"Es geht weiter\")"
   ]
  },
  {
   "cell_type": "code",
   "execution_count": null,
   "metadata": {
    "pycharm": {
     "name": "#%%\n"
    }
   },
   "outputs": [],
   "source": [
    "f = open(\"qqq.txt\")\n",
    "try : \n",
    "    inhalt = f.read()\n",
    "    zahl = int(inhalt)\n",
    "    print(zahl)\n",
    "except Exception as ex :\n",
    "    print(repr(ex))\n",
    "finally :\n",
    "    f.close()\n",
    "    print(\"Die Datei wurde geschlossen\")\n",
    "print(\"Es geht weiter\")"
   ]
  },
  {
   "cell_type": "markdown",
   "metadata": {
    "pycharm": {
     "name": "#%% md\n"
    }
   },
   "source": [
    "### with-Statement\n",
    "An Stelle des try - finally ist das with-Statement etwas einfacher:"
   ]
  },
  {
   "cell_type": "code",
   "execution_count": null,
   "metadata": {
    "pycharm": {
     "name": "#%%\n"
    }
   },
   "outputs": [],
   "source": [
    "with open(\"Zahl.txt\") as f:\n",
    "    inhalt = f.read()\n",
    "    zahl = int(inhalt)\n",
    "    print(zahl)\n",
    "    ### Am Ende des with-Blockes wird f.close() ausgeführt, wie beim try - finally\n",
    "print(\"Es geht weiter\")"
   ]
  },
  {
   "cell_type": "code",
   "execution_count": null,
   "metadata": {
    "pycharm": {
     "name": "#%%\n"
    }
   },
   "outputs": [],
   "source": []
  },
  {
   "cell_type": "markdown",
   "metadata": {
    "jp-MarkdownHeadingCollapsed": true,
    "pycharm": {
     "name": "#%% md\n"
    }
   },
   "source": [
    "# Serialisierung\n",
    "+ Häufig müssen Programme gewisse Daten persisten machen.\n",
    "+ Das können Datenbanken oder Files in irgend einem Format sein (JSON, XML, CSV).\n",
    "+ Dazu müssen Strukturen in ein gewisses Dateiformat umgewandelt werden, und aus diesem Format müssen die Strukturen wieder hergestellt werden.\n",
    "+ JSON, XML und CSV sind textbasiert.\n",
    "+ Ein anderes Format verwendet pickle; dieses Format ist binär."
   ]
  },
  {
   "cell_type": "markdown",
   "metadata": {},
   "source": [
    "## Serialisierung mit Pickle"
   ]
  },
  {
   "cell_type": "code",
   "execution_count": null,
   "metadata": {
    "pycharm": {
     "name": "#%%\n"
    }
   },
   "outputs": [],
   "source": [
    "import pickle"
   ]
  },
  {
   "cell_type": "code",
   "execution_count": null,
   "metadata": {
    "pycharm": {
     "name": "#%%\n"
    }
   },
   "outputs": [],
   "source": [
    "test = [42, 3.141592, \"Test\", (1,2)]"
   ]
  },
  {
   "cell_type": "code",
   "execution_count": null,
   "metadata": {
    "pycharm": {
     "name": "#%%\n"
    }
   },
   "outputs": [],
   "source": [
    "# Schreiben eines Objekts in eine Datei\n",
    "with open('pk_test.pickle', 'wb') as f :  ### Wichtig: Binär-Format!\n",
    "    pickle.dump(test, f)"
   ]
  },
  {
   "cell_type": "code",
   "execution_count": null,
   "metadata": {
    "pycharm": {
     "name": "#%%\n"
    }
   },
   "outputs": [],
   "source": [
    "# Lesen eines Objekts aus einer Datei\n",
    "with open('pk_test.pickle', 'rb') as f :\n",
    "    xxx = pickle.load(f)\n",
    "print(xxx)"
   ]
  },
  {
   "cell_type": "markdown",
   "metadata": {},
   "source": [
    "## Serialisierung mit JSON\n",
    "* JSON ist ein einfaches Datenformat für strukturierte Daten\n",
    "* Es gibt viele öffentlich zugängliche Datensätze in JSON,   \n",
    "  z.B. auf https://opendata.swiss/\n",
    "* JSON vs Pickle:\n",
    "    * Die Mächtigkeit gegenüber Pickle ist eingeschränkt, \n",
    "    * JSON ist textbasiert und somit Mensch-lesbar; \n",
    "    * JSON kann im Gegensatz zu Pickle nicht nur mit Python verarbeitet werden\n",
    "* JSON vs CSV:\n",
    "    * JSON ist flexibler, dafür etwas komplizierter in der Handhabung\n",
    "    * JSON ist nicht mit Tabellenkalkulationsprogrammen verarbeitbar\n",
    "* JSON steht für JavaScript Object Notation; die Notation ist ähnlich wie in Python\n",
    "* JSON unterstützt folgende Datentypen:\n",
    "    * Atomare Datentypen\n",
    "        * Booleans `true` und `false`\n",
    "        * Zahlen\n",
    "        * Strings (immer begrenzt durch Gänsefüßchen)\n",
    "        * `null` (entspricht `None` in Python)\n",
    "    * Zusammengesetzte Datentypen:\n",
    "        * Arrays: entspricht Listen in Python; Syntax mit eckigen Klammern `[ ... ]`\n",
    "        * Objekte: Entspricht Python-Dictionaries; Syntax:\n",
    "            * `{key1 : val2, key2 : val2,...}`\n",
    "            * Keys sind immer Strings und müssen auch in Gänsefüßchen geschrieben werden\n",
    "    * Beispiel: `[3.14, true, \"abc\", null, {\"aa\" : 1, \"bb\" : [1, \"xy\"]}]`"
   ]
  },
  {
   "cell_type": "code",
   "execution_count": null,
   "metadata": {},
   "outputs": [],
   "source": [
    "import json"
   ]
  },
  {
   "cell_type": "markdown",
   "metadata": {},
   "source": [
    "### Python $\\Longrightarrow$ JSON-String\n",
    "Die Funktion `json.dumps` erzeugt aus einen Python-Objekt gemäß obiger Bauart eine JSON-String-Repräsentation "
   ]
  },
  {
   "cell_type": "code",
   "execution_count": null,
   "metadata": {},
   "outputs": [],
   "source": [
    "s = json.dumps([123, 'abc', True, None, {'a': 11, 'b': 22}])\n",
    "print(s)"
   ]
  },
  {
   "cell_type": "code",
   "execution_count": null,
   "metadata": {},
   "outputs": [],
   "source": [
    "s = json.dumps([123, 'abc', True, {'a': 11, 'b': 22}], indent=4)\n",
    "print(s)"
   ]
  },
  {
   "cell_type": "markdown",
   "metadata": {},
   "source": [
    "### ASCII-Symbole"
   ]
  },
  {
   "cell_type": "code",
   "execution_count": null,
   "metadata": {},
   "outputs": [],
   "source": [
    "uml = json.dumps('aäöüßz')\n",
    "print(uml)\n",
    "print(len(uml))"
   ]
  },
  {
   "cell_type": "code",
   "execution_count": null,
   "metadata": {},
   "outputs": [],
   "source": [
    "uml = json.dumps('aäöüßz', ensure_ascii=True)\n",
    "print(uml)\n",
    "print(len(uml))"
   ]
  },
  {
   "cell_type": "code",
   "execution_count": null,
   "metadata": {},
   "outputs": [],
   "source": [
    "uml = json.dumps('aäöüßz', ensure_ascii=False)\n",
    "print(uml)\n",
    "print(len(uml))"
   ]
  },
  {
   "cell_type": "markdown",
   "metadata": {},
   "source": [
    "### Python $\\Longrightarrow$ JSON-File\n",
    "Die Funktion `json.dump` schreibt die JSON-Repräsentation eines Objekts in ein File"
   ]
  },
  {
   "cell_type": "code",
   "execution_count": null,
   "metadata": {},
   "outputs": [],
   "source": [
    "with open('Test.json', 'w') as f:\n",
    "    json.dump([123, 'abc-äöü', True, {'a': 11, 'b': 22}], f)"
   ]
  },
  {
   "cell_type": "markdown",
   "metadata": {},
   "source": [
    "### JSON-String $\\Longrightarrow$ Python\n",
    "Die Funktion `json.loads` erzeugt aus einem JSON-String ein Python-Objekt"
   ]
  },
  {
   "cell_type": "code",
   "execution_count": null,
   "metadata": {},
   "outputs": [],
   "source": [
    "json.loads('[123, \"abc-äöü\", true, null, {\"a\": 11, \"b\": 22}]')"
   ]
  },
  {
   "cell_type": "markdown",
   "metadata": {},
   "source": [
    "### JSON-File $\\Rightarrow$ Python\n",
    "Die Funktion `json.load` erzeugt aus einem JSON-File ein Python-Objekt"
   ]
  },
  {
   "cell_type": "code",
   "execution_count": null,
   "metadata": {},
   "outputs": [],
   "source": [
    "with open('Test.json', 'r') as f:\n",
    "    print(json.load(f))"
   ]
  },
  {
   "cell_type": "markdown",
   "metadata": {},
   "source": [
    "## CSV\n",
    "* CSV (Comma Separated Values) ist ein Format für Tabellen.\n",
    "* Mit dem Modul csv können CSV-Dateien gelesen und geschrieben werden.   \n",
    "  * Dieses Modul ist «low-level» und dient lediglich dazu,\n",
    "    eine CSV-Datei zu lesen oder zu schreiben.\n",
    "  * Das Modul stellt aber keine eigene Datenstruktur für Tabellen zur Verfügung.\n",
    "* Häufiger werden Tabellen mir dem Pandas-Modul verarbeitet (nächster Block).\n",
    "   * Pandas stellt eine eigene Datenstruktur für zur Verfügung.\n",
    "   * Pandas unterstützt verschiedene Dateiformate wie CSV, JSON,\n",
    "     aber auch Excel und ODF (OpenDocument Format). "
   ]
  },
  {
   "cell_type": "code",
   "execution_count": null,
   "metadata": {
    "tags": []
   },
   "outputs": [],
   "source": [
    "import csv"
   ]
  },
  {
   "cell_type": "code",
   "execution_count": null,
   "metadata": {
    "tags": []
   },
   "outputs": [],
   "source": [
    "with open(\"Test.csv\", 'w', newline='') as f:\n",
    "    csv_wr = csv.writer(f, delimiter=',')\n",
    "    csv_wr.writerow([1,2, \"aa\"])\n",
    "    csv_wr.writerow([3,4, \"bb\"])"
   ]
  },
  {
   "cell_type": "code",
   "execution_count": null,
   "metadata": {},
   "outputs": [],
   "source": [
    "tabelle = []\n",
    "with open(\"test.csv\", 'r', newline='') as f:\n",
    "    csv_re = csv.reader(f, delimiter=',')\n",
    "    for row in csv_re:\n",
    "        tabelle.append(row)\n",
    "print(tabelle)"
   ]
  },
  {
   "cell_type": "code",
   "execution_count": null,
   "metadata": {},
   "outputs": [],
   "source": []
  },
  {
   "cell_type": "markdown",
   "metadata": {},
   "source": [
    "## Laden von URLs\n",
    "Dateien können von einem URL programmatisch geladen werden mit der urllib:"
   ]
  },
  {
   "cell_type": "code",
   "execution_count": null,
   "metadata": {
    "tags": []
   },
   "outputs": [],
   "source": [
    "import urllib"
   ]
  },
  {
   "cell_type": "code",
   "execution_count": null,
   "metadata": {
    "tags": []
   },
   "outputs": [],
   "source": [
    "# Link auf Datei von https://opendata.swiss/de/dataset/vollzugsresultate-der-co2-emissionsvorschriften-fur-lieferwagen-und-leichte-sattelschlepper/resource/a225b5b3-7ea2-420c-98fa-4a4a41399c56\n",
    "link = 'https://www.uvek-gis.admin.ch/BFE/ogd/61/datapackage.json'"
   ]
  },
  {
   "cell_type": "markdown",
   "metadata": {},
   "source": [
    "### Programmatischer Download"
   ]
  },
  {
   "cell_type": "code",
   "execution_count": null,
   "metadata": {},
   "outputs": [],
   "source": [
    "urllib.request.urlretrieve(link, \"Emissionsvorschriften.json\")"
   ]
  },
  {
   "cell_type": "markdown",
   "metadata": {},
   "source": [
    "### Lesen des Inhaltes einer Datei via URL"
   ]
  },
  {
   "cell_type": "code",
   "execution_count": null,
   "metadata": {
    "tags": []
   },
   "outputs": [],
   "source": [
    "with urllib.request.urlopen(link) as response:\n",
    "    content = response.read()\n",
    "    print(type(content))"
   ]
  },
  {
   "cell_type": "code",
   "execution_count": null,
   "metadata": {
    "tags": []
   },
   "outputs": [],
   "source": [
    "print(str(content)[:300])"
   ]
  },
  {
   "cell_type": "code",
   "execution_count": null,
   "metadata": {},
   "outputs": [],
   "source": [
    "# Als String\n",
    "content.decode()[:500] # oder content.decode(encoding='utf-8')"
   ]
  },
  {
   "cell_type": "markdown",
   "metadata": {},
   "source": [
    "#### Direktes Laden eine json-Objekts"
   ]
  },
  {
   "cell_type": "code",
   "execution_count": null,
   "metadata": {
    "tags": []
   },
   "outputs": [],
   "source": [
    "with urllib.request.urlopen(link) as f:\n",
    "    json_obj = json.load(f)\n",
    "    print(type(json_obj))"
   ]
  },
  {
   "cell_type": "code",
   "execution_count": null,
   "metadata": {},
   "outputs": [],
   "source": [
    "json_obj.keys()"
   ]
  },
  {
   "cell_type": "markdown",
   "metadata": {},
   "source": [
    "### Weitere Datensätze auf opendata.swiss\n",
    "Weitere Datensätze findet man unter https://opendata.swiss/"
   ]
  },
  {
   "cell_type": "code",
   "execution_count": null,
   "metadata": {},
   "outputs": [],
   "source": []
  }
 ],
 "metadata": {
  "kernelspec": {
   "display_name": "Python 3 (ipykernel)",
   "language": "python",
   "name": "python3"
  },
  "language_info": {
   "codemirror_mode": {
    "name": "ipython",
    "version": 3
   },
   "file_extension": ".py",
   "mimetype": "text/x-python",
   "name": "python",
   "nbconvert_exporter": "python",
   "pygments_lexer": "ipython3",
   "version": "3.12.2"
  }
 },
 "nbformat": 4,
 "nbformat_minor": 4
}
