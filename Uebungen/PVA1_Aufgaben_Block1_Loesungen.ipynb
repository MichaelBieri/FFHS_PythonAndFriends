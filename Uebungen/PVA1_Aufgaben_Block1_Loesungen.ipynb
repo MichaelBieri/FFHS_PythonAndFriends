{
 "cells": [
  {
   "cell_type": "markdown",
   "metadata": {
    "pycharm": {
     "name": "#%% md\n"
    }
   },
   "source": [
    "# Musterlösungen zu den Aufgaben der ersten PVA - DONE"
   ]
  },
  {
   "cell_type": "markdown",
   "metadata": {
    "pycharm": {
     "name": "#%% md\n"
    }
   },
   "source": [
    "## Aufgabe 1\n",
    "Werten Sie die folgenden Ausdrücke aus:\n",
    "\n",
    "* $\\frac{3+7}{2}$\n",
    "* $2^{10}$\n",
    "* $2^{1000}$\n",
    "* $2^{(3^2)}$\n",
    "* $\\left(2^3\\right)^2$\n",
    "* $\\sqrt{49}$\n",
    "* Bestimmen Sie für die Division $23 : 5$ das exakte Ergebnis, das auf eine Ganzzahl abgerundete Ergebnis sowie den Divsionsrest."
   ]
  },
  {
   "cell_type": "code",
   "execution_count": null,
   "metadata": {
    "pycharm": {
     "name": "#%%\n"
    }
   },
   "outputs": [],
   "source": [
    "(3+7) / 2"
   ]
  },
  {
   "cell_type": "code",
   "execution_count": null,
   "metadata": {
    "pycharm": {
     "name": "#%%\n"
    }
   },
   "outputs": [],
   "source": [
    "2 ** 10"
   ]
  },
  {
   "cell_type": "code",
   "execution_count": null,
   "metadata": {
    "collapsed": false,
    "jupyter": {
     "outputs_hidden": false
    },
    "pycharm": {
     "name": "#%%\n"
    }
   },
   "outputs": [],
   "source": [
    "2 ** 1000"
   ]
  },
  {
   "cell_type": "code",
   "execution_count": null,
   "metadata": {
    "collapsed": false,
    "jupyter": {
     "outputs_hidden": false
    },
    "pycharm": {
     "name": "#%%\n"
    }
   },
   "outputs": [],
   "source": [
    "2 ** (3 ** 2)"
   ]
  },
  {
   "cell_type": "code",
   "execution_count": null,
   "metadata": {
    "collapsed": false,
    "jupyter": {
     "outputs_hidden": false
    },
    "pycharm": {
     "name": "#%%\n"
    }
   },
   "outputs": [],
   "source": [
    "(2 ** 3) ** 2"
   ]
  },
  {
   "cell_type": "code",
   "execution_count": null,
   "metadata": {
    "collapsed": false,
    "jupyter": {
     "outputs_hidden": false
    },
    "pycharm": {
     "name": "#%%\n"
    }
   },
   "outputs": [],
   "source": [
    "2 ** 3 ** 2"
   ]
  },
  {
   "cell_type": "code",
   "execution_count": null,
   "metadata": {
    "pycharm": {
     "name": "#%%\n"
    }
   },
   "outputs": [],
   "source": [
    "49 ** (1/2)"
   ]
  },
  {
   "cell_type": "code",
   "execution_count": null,
   "metadata": {
    "pycharm": {
     "name": "#%%\n"
    }
   },
   "outputs": [],
   "source": [
    "23 / 5"
   ]
  },
  {
   "cell_type": "code",
   "execution_count": null,
   "metadata": {
    "pycharm": {
     "name": "#%%\n"
    }
   },
   "outputs": [],
   "source": [
    "23 // 5 # Auf ganze Zahl gerundet"
   ]
  },
  {
   "cell_type": "code",
   "execution_count": null,
   "metadata": {
    "pycharm": {
     "name": "#%%\n"
    }
   },
   "outputs": [],
   "source": [
    "23 % 5  # Divisionsrest (in anderen Programmiersprachen oder Taschenechnern häufig mod)"
   ]
  },
  {
   "cell_type": "markdown",
   "metadata": {
    "pycharm": {
     "name": "#%% md\n"
    }
   },
   "source": [
    "## Aufgabe 2\n",
    "Weisen Sie einer Variablen einen Wert zu (z.B. 10).\n",
    "Erhöhen Sie anschließend den Wert der Variablen um 1,\n",
    "dann zählen Sie vom Wert 6 ab,\n",
    "dann multiplizieren Sie den Wert mit 6,\n",
    "teilen ihn wieder durch 2\n",
    "und schließlich quadrieren Sie den Wert."
   ]
  },
  {
   "cell_type": "code",
   "execution_count": null,
   "metadata": {
    "collapsed": false,
    "jupyter": {
     "outputs_hidden": false
    },
    "pycharm": {
     "name": "#%%\n"
    }
   },
   "outputs": [],
   "source": [
    "x = 10\n",
    "x += 1 # oder x = x + 1\n",
    "print(x)\n",
    "x -= 6\n",
    "print(x)\n",
    "x *= 6\n",
    "print(x)\n",
    "x //= 2\n",
    "print(x)\n",
    "x **= 2\n",
    "print(x)"
   ]
  },
  {
   "cell_type": "markdown",
   "metadata": {
    "pycharm": {
     "name": "#%% md\n"
    }
   },
   "source": [
    "## Aufgabe 3\n",
    "Bestimmen Sie $3 \\cdot \\sqrt{5^2 + 12^2}$ sowie $15- \\sqrt{5^2 + 12^2}$.\n",
    "\n",
    "Berechnen Sie dabei die Wurzel nur einmal und weisen Sie das Ergebnis einer Hilfsvariablen zu."
   ]
  },
  {
   "cell_type": "code",
   "execution_count": 2,
   "metadata": {
    "pycharm": {
     "name": "#%%\n"
    }
   },
   "outputs": [
    {
     "data": {
      "text/plain": [
       "169"
      ]
     },
     "execution_count": 2,
     "metadata": {},
     "output_type": "execute_result"
    }
   ],
   "source": [
    "quadrat_summe = 5**2 + 12**2\n",
    "quadrat_summe"
   ]
  },
  {
   "cell_type": "code",
   "execution_count": 3,
   "metadata": {},
   "outputs": [],
   "source": [
    "wurzel = quadrat_summe ** 0.5"
   ]
  },
  {
   "cell_type": "code",
   "execution_count": 4,
   "metadata": {
    "pycharm": {
     "name": "#%%\n"
    }
   },
   "outputs": [
    {
     "data": {
      "text/plain": [
       "39.0"
      ]
     },
     "execution_count": 4,
     "metadata": {},
     "output_type": "execute_result"
    }
   ],
   "source": [
    "3 * wurzel"
   ]
  },
  {
   "cell_type": "code",
   "execution_count": 5,
   "metadata": {
    "pycharm": {
     "name": "#%%\n"
    }
   },
   "outputs": [
    {
     "data": {
      "text/plain": [
       "2.0"
      ]
     },
     "execution_count": 5,
     "metadata": {},
     "output_type": "execute_result"
    }
   ],
   "source": [
    "15 - wurzel"
   ]
  },
  {
   "cell_type": "markdown",
   "metadata": {
    "pycharm": {
     "name": "#%% md\n"
    }
   },
   "source": [
    "## Aufgabe 5\n",
    "\n",
    "Berechnen Sie das Produkt aller natürlichen Zahlen zwischen 1 und 100."
   ]
  },
  {
   "cell_type": "code",
   "execution_count": null,
   "metadata": {
    "pycharm": {
     "name": "#%%\n"
    }
   },
   "outputs": [],
   "source": [
    "prod = 1\n",
    "n = 1\n",
    "while n <= 100 : #waehrend es kleiner als 100 sind\n",
    "    prod = prod * n #Berechnung\n",
    "    n = n + 1  #n um 1 erhoehen\n",
    "prod"
   ]
  },
  {
   "cell_type": "code",
   "execution_count": null,
   "metadata": {
    "pycharm": {
     "name": "#%%\n"
    }
   },
   "outputs": [],
   "source": [
    "# Andere Lösung:\n",
    "prod = 1\n",
    "for n in range(1, 101) :\n",
    "    prod *= n\n",
    "prod"
   ]
  },
  {
   "cell_type": "markdown",
   "metadata": {
    "pycharm": {
     "name": "#%% md\n"
    }
   },
   "source": [
    "## Aufgabe 6\n",
    "Entscheiden Sie, ob $2^{16}+1$ eine Primzahl ist."
   ]
  },
  {
   "cell_type": "code",
   "execution_count": null,
   "metadata": {
    "pycharm": {
     "name": "#%%\n"
    }
   },
   "outputs": [],
   "source": [
    "# Sehr naiver Primzahltest\n",
    "p = 2 ** 16 + 1\n",
    "teiler_gefunden = False\n",
    "for t in range (2, p) :\n",
    "    if p % t == 0 : #Wenn es kein Rest gibt wenn es durch t (alle Zahlen von 2 bis p) geteilt wird\n",
    "        teiler_gefunden = True #True setzen\n",
    "        break\n",
    "if teiler_gefunden :\n",
    "    print(str(p) + \" ist keine Primzahl\")\n",
    "else :\n",
    "    print(str(p) + \" ist Primzahl\")"
   ]
  },
  {
   "cell_type": "markdown",
   "metadata": {
    "pycharm": {
     "name": "#%% md\n"
    }
   },
   "source": [
    "## Aufgabe 7\n",
    "Eine Collatz-Folge ist eine Folge von natürlichen Zahlen $n_1, n_2, n_3, \\dots, n_m$ mit\n",
    "\n",
    "* $n_1$ ist beliebig\n",
    "* Falls $n_i$ gerade ist, dann gilt für den Nachfolger $n_{i+1} = n_i / 2$\n",
    "* Falls $n_1$ ungerade ist, dann gilt für den Nachfolger $n_{i+1} = 3n_i+1$\n",
    "* Sobald ein Folgeglied 1 wird, bricht die Folge ab.\n",
    "\n",
    "Drucken Sie Collatz-Folgen aus (eine Zahl pro Zeile) für die Collaz-Folgen, die mit 26, 27 und 28 beginnen."
   ]
  },
  {
   "cell_type": "code",
   "execution_count": null,
   "metadata": {
    "collapsed": false,
    "jupyter": {
     "outputs_hidden": false
    },
    "pycharm": {
     "name": "#%%\n"
    }
   },
   "outputs": [],
   "source": [
    "n = 26\n",
    "while n > 1 :\n",
    "    print(n)\n",
    "    if n % 2 == 0 :\n",
    "        n = n // 2\n",
    "    else :\n",
    "        n = 3 * n + 1\n",
    "print(n)"
   ]
  },
  {
   "cell_type": "markdown",
   "metadata": {
    "pycharm": {
     "name": "#%% md\n"
    }
   },
   "source": [
    "Jetzt könnte man obigen Code nochmals für n = 27 und n = 28 ausführen.\n",
    "Statt dessen könnte man ein Schleife programmieren:"
   ]
  },
  {
   "cell_type": "code",
   "execution_count": null,
   "metadata": {
    "pycharm": {
     "name": "#%%\n"
    }
   },
   "outputs": [],
   "source": [
    "for s in (26, 27, 28) :\n",
    "    print(\"Collatzfolge für \" + str(s))\n",
    "    n = s\n",
    "    while n > 1 :\n",
    "        print(n)\n",
    "        if n % 2 == 0 :\n",
    "            n = n // 2\n",
    "        else :\n",
    "            n = 3 * n + 1\n",
    "    print(n)\n"
   ]
  },
  {
   "cell_type": "markdown",
   "metadata": {
    "pycharm": {
     "name": "#%% md\n"
    }
   },
   "source": [
    "## Aufgabe 8\n",
    "Erzeugen Sie zu einer Liste von Strings eine Liste mit den gleichen Strings, aber in Kleinschreibung."
   ]
  },
  {
   "cell_type": "code",
   "execution_count": null,
   "metadata": {
    "collapsed": false,
    "jupyter": {
     "outputs_hidden": false
    },
    "pycharm": {
     "name": "#%%\n"
    }
   },
   "outputs": [],
   "source": [
    "li = [\"Anna\", \"Beat\", \"Christine\"]\n",
    "[s.lower() for s in li] #s bezieht sich auf alle String-Elemente in li"
   ]
  },
  {
   "cell_type": "markdown",
   "metadata": {
    "pycharm": {
     "name": "#%% md\n"
    }
   },
   "source": [
    "## Aufgabe 9\n",
    "Ersetzen Sie die Elemente einer Liste von Strings durch entsprechende Strings in Kleinschreibung."
   ]
  },
  {
   "cell_type": "code",
   "execution_count": null,
   "metadata": {
    "collapsed": false,
    "jupyter": {
     "outputs_hidden": false
    },
    "pycharm": {
     "name": "#%%\n"
    }
   },
   "outputs": [],
   "source": [
    "li = [\"Anna\", \"Beat\", \"Christine\"]\n",
    "for index in range(len(li)):\n",
    "    li[index] = li[index].lower() #for-Loop verwendet, um über die Indizes der Liste zu iterieren, und dann wird der Wert an jedem Index durch li[index].lower() ersetzt\n",
    "print(li)"
   ]
  },
  {
   "cell_type": "code",
   "execution_count": 8,
   "metadata": {},
   "outputs": [
    {
     "data": {
      "text/plain": [
       "['anna', 'beat', 'christine']"
      ]
     },
     "execution_count": 8,
     "metadata": {},
     "output_type": "execute_result"
    }
   ],
   "source": [
    "# Andere Lösung:\n",
    "li = [\"Anna\", \"Beat\", \"Christine\"]\n",
    "li[:] = [s.lower() for s in li]\n",
    "li"
   ]
  },
  {
   "cell_type": "markdown",
   "metadata": {
    "pycharm": {
     "name": "#%% md\n"
    }
   },
   "source": [
    "## Aufgabe 10\n",
    "Erzeugen Sie zu einer Liste ein Dictionary, dessen Schlüssel die Listenelemente sind, und die Werte seien die Anzahlen, wie oft ein Element vorkommt.    "
   ]
  },
  {
   "cell_type": "code",
   "execution_count": 6,
   "metadata": {
    "collapsed": false,
    "jupyter": {
     "outputs_hidden": false
    },
    "pycharm": {
     "name": "#%%\n"
    }
   },
   "outputs": [
    {
     "data": {
      "text/plain": [
       "{'Anna': 3, 'Beat': 2, 'Christine': 1}"
      ]
     },
     "execution_count": 6,
     "metadata": {},
     "output_type": "execute_result"
    }
   ],
   "source": [
    "li = [\"Anna\", \"Beat\", \"Christine\", \"Anna\", \"Beat\", \"Anna\"]\n",
    "{wort: li.count(wort) for wort in li}"
   ]
  },
  {
   "cell_type": "code",
   "execution_count": 7,
   "metadata": {},
   "outputs": [
    {
     "data": {
      "text/plain": [
       "{'Anna': 3, 'Christine': 1, 'Beat': 2}"
      ]
     },
     "execution_count": 7,
     "metadata": {},
     "output_type": "execute_result"
    }
   ],
   "source": [
    "# Etwas effizienter wäre\n",
    "{wort: li.count(wort) for wort in set(li)}"
   ]
  }
 ],
 "metadata": {
  "kernelspec": {
   "display_name": "Python 3 (ipykernel)",
   "language": "python",
   "name": "python3"
  },
  "language_info": {
   "codemirror_mode": {
    "name": "ipython",
    "version": 3
   },
   "file_extension": ".py",
   "mimetype": "text/x-python",
   "name": "python",
   "nbconvert_exporter": "python",
   "pygments_lexer": "ipython3",
   "version": "3.11.7"
  }
 },
 "nbformat": 4,
 "nbformat_minor": 4
}
