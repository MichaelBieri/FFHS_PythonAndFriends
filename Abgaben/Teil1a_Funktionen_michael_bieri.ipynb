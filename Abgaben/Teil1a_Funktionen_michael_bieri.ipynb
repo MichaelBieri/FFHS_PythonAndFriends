{
 "cells": [
  {
   "cell_type": "markdown",
   "id": "3836f982-b434-4363-86b7-fcf50d0032e9",
   "metadata": {},
   "source": [
    "# Aufgaben zu Funktionen"
   ]
  },
  {
   "cell_type": "markdown",
   "id": "820b2b9b",
   "metadata": {},
   "source": [
    "Auftrag:\n",
    "Im parallelen Einführungskurs in die Statistik werden im 1. Block zur univarianten beschreibenden Statistik die folgenden Lage- und Streuungsmasse eingeführt:\n",
    "a Arithmetisches Mittel\n",
    "b Geometrisches Mittel\n",
    "c Harmonisches Mittel\n",
    "d Median\n",
    "e Modus\n",
    "f Varianz\n",
    "g Standardabweichung\n",
    "h Variationskoeffizient\n",
    "1. Erstellen Sie dazu entsprechende Python-Funktionen.\n",
    "(Hinweis für median: sorted-Funktion (oder copy und sort-Methoden für Listen) verwenden.)\n",
    "2. Erstellen Sie ein Python-Modul (Textfile mit Extension .py), in dem diese Funktionen definiert werden.\n",
    "3. Erstellen Sie dann ein Notebook, in das Sie dieses Modul importieren und die Funktionen dieses Moduls anwenden.\n",
    "\n",
    "Verwenden Sie nach Möglichkeit keine Bibliotheken (wie z.B. numpy oder scipy)."
   ]
  },
  {
   "cell_type": "markdown",
   "id": "22b885ef-89d0-4f65-9239-f4d88bc61efd",
   "metadata": {},
   "source": [
    "### Aufgabe 1\n",
    "Erstellen Sie dazu entsprechende Python-Funktionen.\n",
    "a Arithmetisches Mittel\n",
    "b Geometrisches Mittel\n",
    "c armonisches Mittel\n",
    "d Median\n",
    "e Modus\n",
    "f Varianz\n",
    "g Standardabweichung\n",
    "h Variationskoeffizient"
   ]
  },
  {
   "cell_type": "markdown",
   "id": "1b6c3cd9-a260-48b8-919c-cd9a9275f560",
   "metadata": {},
   "source": [
    "### Aufgabe 2\n",
    "Erstellen Sie ein Python-Modul (Textfile mit Extension .py), in dem diese Funktionen definiert werden."
   ]
  },
  {
   "cell_type": "code",
   "execution_count": 43,
   "id": "a66e3b76-959a-499c-b365-beab2655669e",
   "metadata": {},
   "outputs": [],
   "source": [
    "# Tei1a_michaelbieri.py"
   ]
  },
  {
   "cell_type": "markdown",
   "id": "f8fb7ea2-aa70-48db-8ec8-da11b55195fc",
   "metadata": {},
   "source": [
    "### Aufgabe 3\n",
    "Erstellen Sie dann ein Notebook, in das Sie dieses Modul importieren und die Funktionen dieses Moduls "
   ]
  },
  {
   "cell_type": "code",
   "execution_count": 1,
   "id": "acd2a1aa",
   "metadata": {},
   "outputs": [],
   "source": [
    "%load Teil1a_michaelbieri.py"
   ]
  },
  {
   "cell_type": "code",
   "execution_count": null,
   "id": "c7c4c9fd",
   "metadata": {},
   "outputs": [],
   "source": [
    "%run -i Teil1a_michaelbieri.py"
   ]
  },
  {
   "cell_type": "code",
   "execution_count": null,
   "id": "24082fec",
   "metadata": {},
   "outputs": [],
   "source": [
    "liste = [123,123,4,435,2,345,2,435,34,53,456,2,351,32,2,47,2,345,123,4]\n",
    "\n",
    "# Beispiel arithmetrisches mittel\n",
    "Beispiel_arithm = mean(liste)\n",
    "print(\"Das arithmetrische mittel fuer die liste ist:\", Beispiel_arithm)\n",
    "\n",
    "# Beispiel geometrisches mittel\n",
    "Beispiel_geomittel = geometrisches_mittel(liste)\n",
    "print(\"Das geometrische mittel fuer die liste ist:\", Beispiel_geomittel)\n",
    "\n",
    "# Beispiel harmonisches mittel\n",
    "Beispiel_harmmittel = harmonisches_mittel(liste)\n",
    "print(\"Das harmonische mittel der liste ist:\", Beispiel_harmmittel)\n",
    "\n",
    "# Beispiel median\n",
    "Beispiel_median = median(liste)\n",
    "print(\"Der Median der liste ist:\", Beispiel_median)\n",
    "\n",
    "# Beispiel modus\n",
    "Beispiel_modus = modus(liste)\n",
    "print(\"Der modus der liste ist:\", Beispiel_modus)\n",
    "\n",
    "# Beispiel Varianz\n",
    "Beispiel_varianz = varianz(liste)\n",
    "print(\"Die Varianz der liste:\", Beispiel_varianz)\n",
    "\n",
    "# Beispiel Standardabweichung\n",
    "Beispiel_standardabweichung = standardabweichung(liste)\n",
    "print(\"Die Standardabweichung der liste ist:\", Beispiel_standardabweichung)\n",
    "\n",
    "# Beispiel\n",
    "Beispiel_variationskoeffizient = variationskoeffizient(liste)\n",
    "print(\"Der variationskoeffizient der liste ist:\", Beispiel_variationskoeffizient)"
   ]
  }
 ],
 "metadata": {
  "kernelspec": {
   "display_name": "Python 3 (ipykernel)",
   "language": "python",
   "name": "python3"
  },
  "language_info": {
   "codemirror_mode": {
    "name": "ipython",
    "version": 3
   },
   "file_extension": ".py",
   "mimetype": "text/x-python",
   "name": "python",
   "nbconvert_exporter": "python",
   "pygments_lexer": "ipython3",
   "version": "3.12.2"
  }
 },
 "nbformat": 4,
 "nbformat_minor": 5
}
