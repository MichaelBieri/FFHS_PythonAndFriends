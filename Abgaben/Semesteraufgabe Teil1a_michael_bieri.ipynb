{
 "cells": [
  {
   "cell_type": "markdown",
   "id": "3836f982-b434-4363-86b7-fcf50d0032e9",
   "metadata": {},
   "source": [
    "# Aufgaben zu Funktionen"
   ]
  },
  {
   "cell_type": "markdown",
   "id": "820b2b9b",
   "metadata": {},
   "source": [
    "Auftrag:\n",
    "Im parallelen Einführungskurs in die Statistik werden im 1. Block zur univarianten beschreibenden Statistik die folgenden Lage- und Streuungsmasse eingeführt:\n",
    "a Arithmetisches Mittel\n",
    "b Geometrisches Mittel\n",
    "c Harmonisches Mittel\n",
    "d Median\n",
    "e Modus\n",
    "f Varianz\n",
    "g Standardabweichung\n",
    "h Variationskoeffizient\n",
    "1. Erstellen Sie dazu entsprechende Python-Funktionen.\n",
    "(Hinweis für median: sorted-Funktion (oder copy und sort-Methoden für Listen) verwenden.)\n",
    "2. Erstellen Sie ein Python-Modul (Textfile mit Extension .py), in dem diese Funktionen definiert werden.\n",
    "3. Erstellen Sie dann ein Notebook, in das Sie dieses Modul importieren und die Funktionen dieses Moduls anwenden.\n",
    "\n",
    "Verwenden Sie nach Möglichkeit keine Bibliotheken (wie z.B. numpy oder scipy)."
   ]
  },
  {
   "cell_type": "markdown",
   "id": "22b885ef-89d0-4f65-9239-f4d88bc61efd",
   "metadata": {},
   "source": [
    "### Aufgabe 1\n",
    "Erstellen Sie dazu entsprechende Python-Funktionen.\n",
    "a Arithmetisches Mittel\n",
    "b Geometrisches Mittel\n",
    "c armonisches Mittel\n",
    "d Median\n",
    "e Modus\n",
    "f Varianz\n",
    "g Standardabweichung\n",
    "h Variationskoeffizient"
   ]
  },
  {
   "cell_type": "code",
   "execution_count": null,
   "id": "25df4041",
   "metadata": {},
   "outputs": [],
   "source": [
    "# Varianz"
   ]
  },
  {
   "cell_type": "code",
   "execution_count": null,
   "id": "ddb0952c",
   "metadata": {},
   "outputs": [],
   "source": [
    "# Standardabweichung"
   ]
  },
  {
   "cell_type": "code",
   "execution_count": null,
   "id": "76ef364a",
   "metadata": {},
   "outputs": [],
   "source": [
    "# Variationskoeffizient"
   ]
  },
  {
   "cell_type": "markdown",
   "id": "1b6c3cd9-a260-48b8-919c-cd9a9275f560",
   "metadata": {},
   "source": [
    "### Aufgabe 2\n",
    "Erstellen Sie ein Python-Modul (Textfile mit Extension .py), in dem diese Funktionen definiert werden."
   ]
  },
  {
   "cell_type": "code",
   "execution_count": 2,
   "id": "a66e3b76-959a-499c-b365-beab2655669e",
   "metadata": {},
   "outputs": [],
   "source": [
    "#Loesung Aufgabe 2"
   ]
  },
  {
   "cell_type": "markdown",
   "id": "f8fb7ea2-aa70-48db-8ec8-da11b55195fc",
   "metadata": {},
   "source": [
    "### Aufgabe 3\n",
    "Erstellen Sie dann ein Notebook, in das Sie dieses Modul importieren und die Funktionen dieses Moduls "
   ]
  },
  {
   "cell_type": "code",
   "execution_count": 3,
   "id": "ca8463b0",
   "metadata": {},
   "outputs": [],
   "source": [
    "#Loesung Aufgabe 3"
   ]
  }
 ],
 "metadata": {
  "kernelspec": {
   "display_name": "Python 3 (ipykernel)",
   "language": "python",
   "name": "python3"
  },
  "language_info": {
   "codemirror_mode": {
    "name": "ipython",
    "version": 3
   },
   "file_extension": ".py",
   "mimetype": "text/x-python",
   "name": "python",
   "nbconvert_exporter": "python",
   "pygments_lexer": "ipython3",
   "version": "3.12.2"
  }
 },
 "nbformat": 4,
 "nbformat_minor": 5
}
