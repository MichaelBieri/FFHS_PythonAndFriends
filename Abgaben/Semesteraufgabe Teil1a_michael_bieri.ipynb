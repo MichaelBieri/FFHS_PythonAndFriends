{
 "cells": [
  {
   "cell_type": "markdown",
   "id": "3836f982-b434-4363-86b7-fcf50d0032e9",
   "metadata": {},
   "source": [
    "# Aufgaben zu Funktionen"
   ]
  },
  {
   "cell_type": "markdown",
   "id": "820b2b9b",
   "metadata": {},
   "source": [
    "Auftrag:\n",
    "Im parallelen Einführungskurs in die Statistik werden im 1. Block zur univarianten beschreibenden Statistik die folgenden Lage- und Streuungsmasse eingeführt:\n",
    "a Arithmetisches Mittel\n",
    "b Geometrisches Mittel\n",
    "c Harmonisches Mittel\n",
    "d Median\n",
    "e Modus\n",
    "f Varianz\n",
    "g Standardabweichung\n",
    "h Variationskoeffizient\n",
    "1. Erstellen Sie dazu entsprechende Python-Funktionen.\n",
    "(Hinweis für median: sorted-Funktion (oder copy und sort-Methoden für Listen) verwenden.)\n",
    "2. Erstellen Sie ein Python-Modul (Textfile mit Extension .py), in dem diese Funktionen definiert werden.\n",
    "3. Erstellen Sie dann ein Notebook, in das Sie dieses Modul importieren und die Funktionen dieses Moduls anwenden.\n",
    "\n",
    "Verwenden Sie nach Möglichkeit keine Bibliotheken (wie z.B. numpy oder scipy)."
   ]
  },
  {
   "cell_type": "markdown",
   "id": "22b885ef-89d0-4f65-9239-f4d88bc61efd",
   "metadata": {},
   "source": [
    "### Aufgabe 1\n",
    "Erstellen Sie dazu entsprechende Python-Funktionen.\n",
    "a Arithmetisches Mittel\n",
    "b Geometrisches Mittel\n",
    "c armonisches Mittel\n",
    "d Median\n",
    "e Modus\n",
    "f Varianz\n",
    "g Standardabweichung\n",
    "h Variationskoeffizient"
   ]
  },
  {
   "cell_type": "markdown",
   "id": "1b6c3cd9-a260-48b8-919c-cd9a9275f560",
   "metadata": {},
   "source": [
    "### Aufgabe 2\n",
    "Erstellen Sie ein Python-Modul (Textfile mit Extension .py), in dem diese Funktionen definiert werden."
   ]
  },
  {
   "cell_type": "code",
   "execution_count": 4,
   "id": "a66e3b76-959a-499c-b365-beab2655669e",
   "metadata": {},
   "outputs": [
    {
     "ename": "NameError",
     "evalue": "name 'Tei1a_michaelbieri' is not defined",
     "output_type": "error",
     "traceback": [
      "\u001b[1;31m---------------------------------------------------------------------------\u001b[0m",
      "\u001b[1;31mNameError\u001b[0m                                 Traceback (most recent call last)",
      "Cell \u001b[1;32mIn[4], line 1\u001b[0m\n\u001b[1;32m----> 1\u001b[0m \u001b[43mTei1a_michaelbieri\u001b[49m\u001b[38;5;241m.\u001b[39mpy\n",
      "\u001b[1;31mNameError\u001b[0m: name 'Tei1a_michaelbieri' is not defined"
     ]
    }
   ],
   "source": [
    "# Tei1a_michaelbieri.py"
   ]
  },
  {
   "cell_type": "markdown",
   "id": "f8fb7ea2-aa70-48db-8ec8-da11b55195fc",
   "metadata": {},
   "source": [
    "### Aufgabe 3\n",
    "Erstellen Sie dann ein Notebook, in das Sie dieses Modul importieren und die Funktionen dieses Moduls "
   ]
  },
  {
   "cell_type": "code",
   "execution_count": 9,
   "id": "24082fec",
   "metadata": {},
   "outputs": [],
   "source": [
    "%load C:\\Users\\Michael Bieri\\Documents\\GitHub\\FFHS_PythonAndFriends\\FFHS_PythonAndFriends\\Abgaben\\Teil1a_michaelbieri.py\n",
    "%run C:\\Users\\Michael Bieri\\Documents\\GitHub\\FFHS_PythonAndFriends\\FFHS_PythonAndFriends\\Abgaben\\Teil1a_michaelbieri.py\n",
    "liste = [123,123,5,346,2,247,345,23,42,34,34,63,46,346,7,456,23]\n",
    "\n",
    "### Arithmetrischs Mittel = mean\n",
    "def mean(values):\n",
    "    total = sum(values)\n",
    "    number = len(values)\n",
    "    return total/number\n",
    "\n",
    "### Geometrisches Mittel = zentralen Wert Wurzel(x1*x2*x3)\n",
    "#Verwendung fuer Wachtums- oder Zuwachsdaten.\n",
    "def geometrisches_mittel(values):\n",
    "    produkt = 1\n",
    "    n = len(values)\n",
    "    for value in values:\n",
    "        produkt *= value\n",
    "    return produkt ** (1 / n) #** heisst wurzel, es wird von innen gestartet\n",
    "\n",
    "### Harmonisches Mittel\n",
    "def harmonisches_mittel(values):\n",
    "    return len(values) / sum(1/value for value in values)\n",
    "\n",
    "### Median mit sorted funktion oder sort/copy\n",
    "# Wenn Datenanzahl ungerade: zuerst Daten sortieren und dann die mitte der Werte\n",
    "# Wenn gerade: Durchschnitt der beiden mittleren Werte\n",
    "def median(values):\n",
    "    sorted_values = sorted(values)  # Sortiere die Werte\n",
    "    length = len(sorted_values)  # Anzahl der Werte\n",
    "    middle_index = length // 2  # Mittlerer Index\n",
    "\n",
    "    if length % 2 == 1:  # Wenn die Anzahl der Werte ungerade ist\n",
    "        return sorted_values[middle_index]  # Der Wert in der Mitte ist der Median\n",
    "    else:  # Wenn die Anzahl der Werte gerade ist\n",
    "        lower_value = sorted_values[middle_index - 1]  # Wert unter der Mitte\n",
    "        upper_value = sorted_values[middle_index]  # Wert über der Mitte\n",
    "        return (lower_value + upper_value) / 2  # Mittelwert der beiden mittleren Werte\n",
    "\n",
    "### Modus\n",
    "# Wert der am hauefigsten vorkommt\n",
    "def modus(values):\n",
    "    counter_liste = {} #Leere Liste um die Anzahl jedes Wertes darin abzuspeichern\n",
    "    for value in values: #Fuer alle Werte in values\n",
    "        if value in counter_liste: #Wenn ein Wert bereits in der counter_liste ist\n",
    "            counter_liste[value] += 1 #Wenn drin dann um 1 erhoehen\n",
    "        else:\n",
    "            counter_liste[value] = 1 #Wenn nicht dann einfuegen\n",
    "            \n",
    "    max_value = max(counter_liste.values())\n",
    "    mode = [key for key, count in counter_liste.items() if count == max_value] #Key ist der Wert und count Anzahl der Vorkommen, es wird geprueft ob die Anzahl der Vorkommen gleich der max. Anzahl der Vorkommen ist. Ist die max value erreicht, wird es auf mode aufgenommen.\n",
    "\n",
    "### Varianz\n",
    "def varianz(values):\n",
    "    n = len(values)\n",
    "    durchschnitt = sum(values)/n\n",
    "    klammersumme = (sum(x-durchschnitt) ** 2 for x in values) # Fuer alle Werte x\n",
    "    return klammersumme/2\n",
    "\n",
    "### Standardabweichung\n",
    "# Wie varianz aber mit Wurzel ueber allem\n",
    "def standardabweichung(values):\n",
    "    varianzwert = varianz(values)\n",
    "    return varianzwert ** 0.5 #Verwendung Funktion varianz\n",
    "\n",
    "### Variationskoeffizient\n",
    "#Mass fuer die relative streuung im verhaeltnis zum mittelwert, Standardabweichung durch mittelwert und multiplizieren mit 100 fuer prozent\n",
    "def variationskoeffizient(values):\n",
    "    mittelwert = sum(values)/len(values)\n",
    "    variationskoeffizient_wert = (standardabweichung(values)/mittelwert) * 100\n",
    "    return variationskoeffizient_wert"
   ]
  }
 ],
 "metadata": {
  "kernelspec": {
   "display_name": "Python 3 (ipykernel)",
   "language": "python",
   "name": "python3"
  },
  "language_info": {
   "codemirror_mode": {
    "name": "ipython",
    "version": 3
   },
   "file_extension": ".py",
   "mimetype": "text/x-python",
   "name": "python",
   "nbconvert_exporter": "python",
   "pygments_lexer": "ipython3",
   "version": "3.12.2"
  }
 },
 "nbformat": 4,
 "nbformat_minor": 5
}
