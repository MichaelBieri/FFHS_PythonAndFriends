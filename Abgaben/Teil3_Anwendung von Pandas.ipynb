{
 "cells": [
  {
   "cell_type": "markdown",
   "id": "0d7793b4",
   "metadata": {},
   "source": [
    "https://www.kaggle.com/datasets/shuvokumarbasak4004/global-energy-statistics?resource=download\n",
    "This dataset provides comprehensive statistics on global energy production, consumption, and related metrics. It includes data on renewable energy, fossil fuels, electricity generation, and more. The data is collected from various reliable sources and is regularly updated to provide accurate insights into the global energy landscape.\n",
    "Source: Kaggle"
   ]
  },
  {
   "cell_type": "code",
   "execution_count": 108,
   "id": "0c4328a2",
   "metadata": {},
   "outputs": [],
   "source": [
    "import os\n",
    "import warnings\n",
    "import pandas as pd\n",
    "import matplotlib.pyplot as plt\n",
    "import seaborn as sns\n",
    "warnings.filterwarnings('ignore')"
   ]
  },
  {
   "cell_type": "markdown",
   "id": "d0d6f413",
   "metadata": {},
   "source": [
    "1. Import and overview over the dataset:"
   ]
  },
  {
   "cell_type": "code",
   "execution_count": 109,
   "id": "30825f9a",
   "metadata": {},
   "outputs": [
    {
     "data": {
      "text/html": [
       "<div>\n",
       "<style scoped>\n",
       "    .dataframe tbody tr th:only-of-type {\n",
       "        vertical-align: middle;\n",
       "    }\n",
       "\n",
       "    .dataframe tbody tr th {\n",
       "        vertical-align: top;\n",
       "    }\n",
       "\n",
       "    .dataframe thead th {\n",
       "        text-align: right;\n",
       "    }\n",
       "</style>\n",
       "<table border=\"1\" class=\"dataframe\">\n",
       "  <thead>\n",
       "    <tr style=\"text-align: right;\">\n",
       "      <th></th>\n",
       "      <th>Country</th>\n",
       "      <th>Energy Consumption  (BTU)</th>\n",
       "      <th>World Share</th>\n",
       "      <th>Per capita Yearly BTU</th>\n",
       "    </tr>\n",
       "  </thead>\n",
       "  <tbody>\n",
       "    <tr>\n",
       "      <th>0</th>\n",
       "      <td>China</td>\n",
       "      <td>138,689,472,800,000</td>\n",
       "      <td>23.80%</td>\n",
       "      <td>98,342</td>\n",
       "    </tr>\n",
       "    <tr>\n",
       "      <th>1</th>\n",
       "      <td>United States</td>\n",
       "      <td>97,661,161,460,000</td>\n",
       "      <td>16.80%</td>\n",
       "      <td>296,130</td>\n",
       "    </tr>\n",
       "    <tr>\n",
       "      <th>2</th>\n",
       "      <td>Russia</td>\n",
       "      <td>32,832,743,720,000</td>\n",
       "      <td>5.60%</td>\n",
       "      <td>225,728</td>\n",
       "    </tr>\n",
       "    <tr>\n",
       "      <th>3</th>\n",
       "      <td>India</td>\n",
       "      <td>30,476,788,610,000</td>\n",
       "      <td>5.20%</td>\n",
       "      <td>22,505</td>\n",
       "    </tr>\n",
       "    <tr>\n",
       "      <th>4</th>\n",
       "      <td>Japan</td>\n",
       "      <td>19,402,928,820,000</td>\n",
       "      <td>3.30%</td>\n",
       "      <td>153,186</td>\n",
       "    </tr>\n",
       "    <tr>\n",
       "      <th>...</th>\n",
       "      <td>...</td>\n",
       "      <td>...</td>\n",
       "      <td>...</td>\n",
       "      <td>...</td>\n",
       "    </tr>\n",
       "    <tr>\n",
       "      <th>204</th>\n",
       "      <td>Saint Pierre &amp; Miquelon</td>\n",
       "      <td>1,982,000,000</td>\n",
       "      <td>0.00%</td>\n",
       "      <td>332,718</td>\n",
       "    </tr>\n",
       "    <tr>\n",
       "      <th>205</th>\n",
       "      <td>Tonga</td>\n",
       "      <td>1,807,000,000</td>\n",
       "      <td>0.00%</td>\n",
       "      <td>17,142</td>\n",
       "    </tr>\n",
       "    <tr>\n",
       "      <th>206</th>\n",
       "      <td>Cook Islands</td>\n",
       "      <td>1,677,278,000</td>\n",
       "      <td>0.00%</td>\n",
       "      <td>96,423</td>\n",
       "    </tr>\n",
       "    <tr>\n",
       "      <th>207</th>\n",
       "      <td>Falkland Islands</td>\n",
       "      <td>82,900,000</td>\n",
       "      <td>0.00%</td>\n",
       "      <td>23,041</td>\n",
       "    </tr>\n",
       "    <tr>\n",
       "      <th>208</th>\n",
       "      <td>Kiribati</td>\n",
       "      <td>46,100,000</td>\n",
       "      <td>0.00%</td>\n",
       "      <td>383</td>\n",
       "    </tr>\n",
       "  </tbody>\n",
       "</table>\n",
       "<p>209 rows × 4 columns</p>\n",
       "</div>"
      ],
      "text/plain": [
       "                     Country Energy Consumption  (BTU) World Share  \\\n",
       "0                      China       138,689,472,800,000      23.80%   \n",
       "1              United States        97,661,161,460,000      16.80%   \n",
       "2                     Russia        32,832,743,720,000       5.60%   \n",
       "3                      India        30,476,788,610,000       5.20%   \n",
       "4                      Japan        19,402,928,820,000       3.30%   \n",
       "..                       ...                       ...         ...   \n",
       "204  Saint Pierre & Miquelon             1,982,000,000       0.00%   \n",
       "205                    Tonga             1,807,000,000       0.00%   \n",
       "206             Cook Islands             1,677,278,000       0.00%   \n",
       "207         Falkland Islands                82,900,000       0.00%   \n",
       "208                 Kiribati                46,100,000       0.00%   \n",
       "\n",
       "    Per capita Yearly BTU  \n",
       "0                  98,342  \n",
       "1                 296,130  \n",
       "2                 225,728  \n",
       "3                  22,505  \n",
       "4                 153,186  \n",
       "..                    ...  \n",
       "204               332,718  \n",
       "205                17,142  \n",
       "206                96,423  \n",
       "207                23,041  \n",
       "208                   383  \n",
       "\n",
       "[209 rows x 4 columns]"
      ]
     },
     "execution_count": 109,
     "metadata": {},
     "output_type": "execute_result"
    }
   ],
   "source": [
    "import pandas as pd\n",
    "\n",
    "df = pd.read_csv('Global Energy Statistics.csv')\n",
    "df\n",
    "# Overview\n",
    "#print('Info will be shown of the data:')\n",
    "\n",
    "#print(df.info())\n",
    "#print('Description will be shown of the data:')\n",
    "#df.describe()\n",
    "#statistics = df['Energy Consumption  (BTU)'].describe()\n",
    "#print(statistics)"
   ]
  },
  {
   "cell_type": "markdown",
   "id": "afbe5a3e",
   "metadata": {},
   "source": [
    "2. Edit the dataset and statistic analysation"
   ]
  },
  {
   "cell_type": "code",
   "execution_count": 110,
   "id": "f0830032",
   "metadata": {},
   "outputs": [
    {
     "name": "stdout",
     "output_type": "stream",
     "text": [
      "Country                      0\n",
      "Energy Consumption  (BTU)    0\n",
      "World Share                  0\n",
      "Per capita Yearly BTU        0\n",
      "dtype: int64\n"
     ]
    }
   ],
   "source": [
    "# Show missing values\n",
    "print(df.isnull().sum())\n",
    "\n",
    "# Delete missing values\n",
    "df.dropna(inplace=True)\n",
    "\n",
    "# Delete ,\n",
    "df = df.replace({',': ''}, regex=True)"
   ]
  },
  {
   "cell_type": "markdown",
   "id": "b9ec51e3",
   "metadata": {},
   "source": [
    "In the dataset are no field without a value. This unit is standard in the energ business.\n",
    "\n",
    "Convert of the BTU uni(Unit for energy in USA) into kWh.\n",
    "1 kWh = 3.412 BTU. Die Zahlen sollen umgerechnet werden in einer neuen Zeile dargestellt."
   ]
  },
  {
   "cell_type": "code",
   "execution_count": 111,
   "id": "533903df",
   "metadata": {},
   "outputs": [
    {
     "name": "stdout",
     "output_type": "stream",
     "text": [
      "Spaltennamen im DataFrame: Index(['Country', 'Energy Consumption  (BTU)', 'World Share',\n",
      "       'Per capita Yearly BTU'],\n",
      "      dtype='object')\n",
      "Bereinigte Spaltennamen: Index(['Country', 'Energy Consumption  (BTU)', 'World Share',\n",
      "       'Per capita Yearly BTU'],\n",
      "      dtype='object')\n",
      "                     Country  Energy Consumption  (BTU)  \\\n",
      "0                      China               1.386895e+14   \n",
      "1              United States               9.766116e+13   \n",
      "2                     Russia               3.283274e+13   \n",
      "3                      India               3.047679e+13   \n",
      "4                      Japan               1.940293e+13   \n",
      "..                       ...                        ...   \n",
      "204  Saint Pierre & Miquelon               1.982000e+09   \n",
      "205                    Tonga               1.807000e+09   \n",
      "206             Cook Islands               1.677278e+09   \n",
      "207         Falkland Islands               8.290000e+07   \n",
      "208                 Kiribati               4.610000e+07   \n",
      "\n",
      "     Energy Consumption (kWh)  World Share  Per capita Yearly BTU  \n",
      "0                4.064756e+13         23.8                98342.0  \n",
      "1                2.862285e+13         16.8               296130.0  \n",
      "2                9.622727e+12          5.6               225728.0  \n",
      "3                8.932236e+12          5.2                22505.0  \n",
      "4                5.686673e+12          3.3               153186.0  \n",
      "..                        ...          ...                    ...  \n",
      "204              5.808910e+08          0.0               332718.0  \n",
      "205              5.296014e+08          0.0                17142.0  \n",
      "206              4.915821e+08          0.0                96423.0  \n",
      "207              2.429660e+07          0.0                23041.0  \n",
      "208              1.351114e+07          0.0                  383.0  \n",
      "\n",
      "[209 rows x 5 columns]\n"
     ]
    }
   ],
   "source": [
    "print(\"Spaltennamen im DataFrame:\", df.columns)\n",
    "\n",
    "# Bereinigen der Spaltennamen\n",
    "df.columns = df.columns.str.strip()\n",
    "print(\"Bereinigte Spaltennamen:\", df.columns)\n",
    "\n",
    "# Nicht-numerische Zeichen entfernen und in numerische Werte umwandeln\n",
    "df['Energy Consumption  (BTU)'] = df['Energy Consumption  (BTU)'].astype(float)\n",
    "df = df.replace({',': '', '%': ''}, regex=True)\n",
    "df['World Share'] = df['World Share'].astype(float)\n",
    "df['Per capita Yearly BTU'] = df['Per capita Yearly BTU'].astype(float)\n",
    "\n",
    "# Position der Spalte \"World Share\" finden\n",
    "position = df.columns.get_loc('World Share')\n",
    "\n",
    "# Werte in der Spalte \"Energy Consumption  (BTU)\" in kWh umrechnen\n",
    "copyvalues = df['Energy Consumption  (BTU)'] / 3.412\n",
    "\n",
    "# Wenn die Spalte \"Energy Consumption (kWh)\" bereits existiert, lösche sie\n",
    "if 'Energy Consumption (kWh)' in df.columns:\n",
    "    df.drop(columns=['Energy Consumption (kWh)'], inplace=True)\n",
    "\n",
    "# Neue Spalte \"Energy Consumption (kWh)\" einfügen\n",
    "df.insert(position, 'Energy Consumption (kWh)', copyvalues)\n",
    "\n",
    "# DataFrame anzeigen\n",
    "print(df)"
   ]
  },
  {
   "cell_type": "markdown",
   "id": "428ecaf7",
   "metadata": {},
   "source": [
    "Groups and analyze the dataset:\n",
    "1. How many total energy are using the biggest industralised countries in the world?\n",
    "2. Sort all countries: World share from high to low\n",
    "3. Which of the industry countries have the \"best\" population?\n",
    "4. ..."
   ]
  },
  {
   "cell_type": "code",
   "execution_count": 112,
   "id": "303bd097",
   "metadata": {},
   "outputs": [
    {
     "name": "stdout",
     "output_type": "stream",
     "text": [
      "Solution 1:\n",
      "           Country  Energy Consumption  (BTU)  Energy Consumption (kWh)  \\\n",
      "0            China               1.386895e+14              4.064756e+13   \n",
      "1    United States               9.766116e+13              2.862285e+13   \n",
      "4            Japan               1.940293e+13              5.686673e+12   \n",
      "5           Canada               1.506212e+13              4.414456e+12   \n",
      "6          Germany               1.406254e+13              4.121495e+12   \n",
      "7      South Korea               1.265909e+13              3.710166e+12   \n",
      "11          France               1.024166e+13              3.001660e+12   \n",
      "12  United Kingdom               8.190850e+12              2.400601e+12   \n",
      "15           Italy               6.771608e+12              1.984645e+12   \n",
      "\n",
      "    World Share  Per capita Yearly BTU  \n",
      "0         23.80                98342.0  \n",
      "1         16.80               296130.0  \n",
      "4          3.30               153186.0  \n",
      "5          2.60               412047.0  \n",
      "6          2.40               170198.0  \n",
      "7          2.20               245752.0  \n",
      "11         1.80               159667.0  \n",
      "12         1.41               123982.0  \n",
      "15         1.16               112853.0  \n",
      "Solution 2:\n",
      "            Country  Energy Consumption  (BTU)  Energy Consumption (kWh)  \\\n",
      "0             China               1.386895e+14              4.064756e+13   \n",
      "1     United States               9.766116e+13              2.862285e+13   \n",
      "2            Russia               3.283274e+13              9.622727e+12   \n",
      "3             India               3.047679e+13              8.932236e+12   \n",
      "4             Japan               1.940293e+13              5.686673e+12   \n",
      "..              ...                        ...                       ...   \n",
      "178        Djibouti               1.215261e+10              3.561725e+09   \n",
      "180  Faeroe Islands               1.150621e+10              3.372277e+09   \n",
      "181         Bermuda               1.125200e+10              3.297773e+09   \n",
      "182         Eritrea               1.087085e+10              3.186064e+09   \n",
      "208        Kiribati               4.610000e+07              1.351114e+07   \n",
      "\n",
      "     World Share  Per capita Yearly BTU  \n",
      "0           23.8                98342.0  \n",
      "1           16.8               296130.0  \n",
      "2            5.6               225728.0  \n",
      "3            5.2                22505.0  \n",
      "4            3.3               153186.0  \n",
      "..           ...                    ...  \n",
      "178          0.0                11683.0  \n",
      "180          0.0               229070.0  \n",
      "181          0.0               177827.0  \n",
      "182          0.0                 3200.0  \n",
      "208          0.0                  383.0  \n",
      "\n",
      "[209 rows x 5 columns]\n",
      "Solution 1 - Die Totale Energie der Industrielaender betraegt:\n",
      "322741433561000.0\n",
      "Solution 2 - Die Industrielaender verbrauchen soviele Prozent der gesamten Energie in Prozent:\n",
      "55.47\n",
      "A pie-chart of the industry countries:\n",
      "Solution 3:\n"
     ]
    },
    {
     "data": {
      "image/png": "[encoded data removed]",
      "text/plain": [
       "<Figure size 800x800 with 1 Axes>"
      ]
     },
     "metadata": {},
     "output_type": "display_data"
    }
   ],
   "source": [
    "import matplotlib.pyplot as plt\n",
    "\n",
    "# Solution 1\n",
    "selected_countries = ['China','United States', 'Germany', 'Japan', 'France', 'United Kingdom', 'Canada', 'South Korea', 'Italy']\n",
    "industry_df = df[df['Country'].isin(selected_countries)]\n",
    "print(\"Solution 1:\")\n",
    "print(industry_df)\n",
    "\n",
    "# Solution 2 - the full table\n",
    "World_Share_df = df.sort_values(by=\"World Share\", ascending=False)\n",
    "print(\"Solution 2:\")\n",
    "print(World_Share_df)\n",
    "\n",
    "# Solution 3 Which of the industry the industry countries have the best people?\n",
    "total_energy_consumption_industry = industry_df['Energy Consumption  (BTU)'].sum()\n",
    "total_world_share_industry = industry_df['World Share'].sum()\n",
    "print(\"Solution 1 - Die Totale Energie der Industrielaender betraegt:\")\n",
    "print(total_energy_consumption_industry)\n",
    "print(\"Solution 2 - Die Industrielaender verbrauchen soviele Prozent der gesamten Energie in Prozent:\")\n",
    "print(total_world_share_industry)\n",
    "print(\"A pie-chart of the industry countries:\")\n",
    "industry_df.set_index('Country', inplace=True)\n",
    "plt.figure(figsize=(8, 8))\n",
    "industry_df['Per capita Yearly BTU'].plot.pie(autopct='%1.1f%%', startangle=90)\n",
    "plt.title('Pie chart with the Per capita Yearly BTU')\n",
    "plt.ylabel('')\n",
    "print(\"Solution 3:\")\n",
    "plt.show()"
   ]
  },
  {
   "cell_type": "markdown",
   "id": "ccdfb5d8",
   "metadata": {},
   "source": [
    "The pie show that the people in china use less energy and the people in canada a lot."
   ]
  },
  {
   "cell_type": "markdown",
   "id": "55ab1d63",
   "metadata": {},
   "source": [
    "We need to import the data, but first there are several files that we need to work. The data is separated in terms of decade. Therefore, we write a script that looks for all the files containing the data, read and combine them together into a single dataframe that we can work on."
   ]
  },
  {
   "cell_type": "markdown",
   "id": "52b7b445",
   "metadata": {},
   "source": [
    "<div class=\"alert alert-block alert-warning\">\n",
    "\n",
    "<b>!! INFO !!</b> END of Abgabe Teil 3.\n",
    "\n",
    "</div>"
   ]
  },
  {
   "cell_type": "markdown",
   "id": "016fbc2c",
   "metadata": {},
   "source": [
    "### Data overview "
   ]
  },
  {
   "cell_type": "markdown",
   "id": "bd419f01",
   "metadata": {},
   "source": [
    "1. top genre: genre of the song\n",
    "\n",
    "2. year: year of the song (due to re-releases, the year might not correspond to the release year of the original song)\n",
    "\n",
    "3. bpm(beats per minute): beats per minute\n",
    "\n",
    "4. nrgy(energy): energy of a song, the higher the value the more energetic the song is\n",
    "\n",
    "5. dnce(danceability): the higher the value, the easier it is to dance to this song.\n",
    "\n",
    "6. dB(loudness): the higher the value, the louder the song.\n",
    "\n",
    "7. live(liveness): the higher the value, the more likely the song is a live recording.\n",
    "\n",
    "8. val(valence): the higher the value, the more positive mood for the song.\n",
    "\n",
    "9. dur(duration): the duration of the song.\n",
    "\n",
    "10. acous(acousticness): the higher the value the more acoustic the song is.\n",
    "\n",
    "11. spch(speechiness): the higher the value the more spoken word the song contains.\n",
    "\n",
    "12. pop(popularity): the higher the value the more popular the song is."
   ]
  },
  {
   "cell_type": "markdown",
   "id": "6f85f487",
   "metadata": {},
   "source": [
    "##### Business Question "
   ]
  },
  {
   "cell_type": "markdown",
   "id": "df862931",
   "metadata": {},
   "source": [
    "Now let us formulate a business question for this project\n",
    "\n",
    "1. What was the most popular genre in each decade?\n",
    "2. Who was the most listened to artist in each decade?\n",
    "2. What was the average danceability score of most recommended songs in every decade? \n",
    "3. What was the average bpm score of most recommended songs in every decade? \n",
    "4. What is the secret behind a popular song on online streaming platforms?"
   ]
  }
 ],
 "metadata": {
  "kernelspec": {
   "display_name": "Python 3 (ipykernel)",
   "language": "python",
   "name": "python3"
  },
  "language_info": {
   "codemirror_mode": {
    "name": "ipython",
    "version": 3
   },
   "file_extension": ".py",
   "mimetype": "text/x-python",
   "name": "python",
   "nbconvert_exporter": "python",
   "pygments_lexer": "ipython3",
   "version": "3.12.2"
  }
 },
 "nbformat": 4,
 "nbformat_minor": 5
}
