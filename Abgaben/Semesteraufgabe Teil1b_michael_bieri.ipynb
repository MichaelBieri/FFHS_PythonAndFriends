{
 "cells": [
  {
   "cell_type": "markdown",
   "metadata": {},
   "source": [
    "Semesteraufgabe Teil 1b: Funktionen in einem Jupyter-Notebook\n",
    "1. Erstellen Sie eine Python-Funktion, die für eine natürliche Zahl entscheidet, ob sie eine Primzahl ist.\n",
    "2. Erstellen Sie eine Python-Funktion quadratische_gleichung(a, b, c), die für die Lösungen der quadratischen Gleichung ax2+bx+c=0 berechnet.\n",
    "3. Schreiben Sie eine Funktion, die aus einer Liste alle Duplikate entfernt.\n",
    "4. Schreiben Sie eine Funktion, die für eine Datumsangabe, die als String im ISO-Format gegeben ist, den zugehörigen Wochentag bestimmt."
   ]
  },
  {
   "cell_type": "code",
   "execution_count": 36,
   "metadata": {},
   "outputs": [
    {
     "data": {
      "text/plain": [
       "'Ja, ist eine primzahl nur durch 1 und sich selbst teilbar'"
      ]
     },
     "execution_count": 36,
     "metadata": {},
     "output_type": "execute_result"
    }
   ],
   "source": [
    "# 1. Funktion Primzahl\n",
    "# Es muss eine ganzzahl sein\n",
    "def isprime(n):\n",
    "    if n <=1:\n",
    "        return False\n",
    "    for i in range(2,n): # Von 2 bis zu n test ob es eine zahl gibt die geteilt werden kann und 0 ergibt\n",
    "        if n % i==0:\n",
    "            return False\n",
    "    return \"Ja, ist eine primzahl nur durch 1 und sich selbst teilbar\"\n",
    "\n",
    "# Aufrufen\n",
    "isprime(3)"
   ]
  },
  {
   "cell_type": "code",
   "execution_count": 42,
   "metadata": {},
   "outputs": [
    {
     "data": {
      "text/plain": [
       "('Diskriminante ist groesser 0', -2.0, -2.0)"
      ]
     },
     "execution_count": 42,
     "metadata": {},
     "output_type": "execute_result"
    }
   ],
   "source": [
    "# 2. Funktion quadratische Gleichung\n",
    "# Tubel sind nicht veraenderbare listen = feste Werte\n",
    "from math import sqrt\n",
    "\n",
    "def quadratische_gleichung(a,b,c):\n",
    "    discrim = b**2-4*a*c\n",
    "    if discrim<0:\n",
    "         return \"Diskriminante ist negativ, keine reelle Zahl\", discrim\n",
    "    elif discrim==0:\n",
    "        return \"Diskriminante gleich 0, Loesung ist null\", discrim\n",
    "    elif discrim>=0:\n",
    "        root = sqrt(discrim)\n",
    "    return \"Diskriminante ist groesser 0\", (-b + root) / (2 * a), (-b + root) / (2 * a)\n",
    "\n",
    "# Variablen definieren und Aufrufen\n",
    "a = 1\n",
    "b = 5\n",
    "c = 6\n",
    "quadratische_gleichung(a, b, c)"
   ]
  },
  {
   "cell_type": "code",
   "execution_count": 47,
   "metadata": {},
   "outputs": [
    {
     "name": "stdout",
     "output_type": "stream",
     "text": [
      "[123, 1236, 3457, 12345467, 34, 56, 456324]\n"
     ]
    }
   ],
   "source": [
    "# 3. Funktion die aus einer Liste die Duplikate entfernt\n",
    "\n",
    "def duplikate(values):\n",
    "    liste = []  # Neue Liste erstellen, um Elemente zu speichern\n",
    "    for element in values:  # Über die Eingabeliste iterieren\n",
    "        if element not in liste:  # Überprüfen, ob das Element bereits in der Liste vorhanden ist\n",
    "            liste.append(element)  # Wenn nicht, füge es hinzu\n",
    "    return liste  # Gib die Liste zurück ohne duplikate\n",
    "\n",
    "# Liste erstellen mit Duplikaten und Aufrufen\n",
    "liste = [123, 1236, 123, 3457, 12345467, 123, 34, 56, 123, 456324, 123]\n",
    "liste_ohne_duplikate = duplikate(liste)\n",
    "print(liste_ohne_duplikate)"
   ]
  },
  {
   "cell_type": "code",
   "execution_count": null,
   "metadata": {},
   "outputs": [],
   "source": [
    "# 4. Eine Funktion, die fuer eine Datumsangabe im Format ISO, den Wochentag bestimmt\n",
    "# YYYY-MM-DD\n",
    "\n",
    "def tag_iso(n):\n",
    "heute angeben\n",
    "jedentag angeben\n",
    "und tage zahlen\n",
    "    \n",
    "    \n",
    "# Aufruf - Datums eingabe in ISO-Format mit Ausgabe Wochentag\n",
    "datum = 1996-09-01\n",
    "wochentag = tag_iso(datum)\n",
    "print(\"Der Wochentag war:\", wochentag)"
   ]
  }
 ],
 "metadata": {
  "kernelspec": {
   "display_name": "Python 3",
   "language": "python",
   "name": "python3"
  },
  "language_info": {
   "codemirror_mode": {
    "name": "ipython",
    "version": 3
   },
   "file_extension": ".py",
   "mimetype": "text/x-python",
   "name": "python",
   "nbconvert_exporter": "python",
   "pygments_lexer": "ipython3",
   "version": "3.12.2"
  }
 },
 "nbformat": 4,
 "nbformat_minor": 2
}
